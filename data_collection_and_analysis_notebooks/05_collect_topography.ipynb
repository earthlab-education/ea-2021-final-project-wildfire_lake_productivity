{
 "cells": [
  {
   "cell_type": "markdown",
   "id": "0c4e2d0b",
   "metadata": {},
   "source": [
    "Objectives:\n",
    "   1. Open catchments dataframe (polygons over which landscape data will be collected)\n",
    "   2. Collect catchment statistics from Earth Engine datasets\n",
    "   3. Export to a table that can be used in RandomForest"
   ]
  },
  {
   "cell_type": "markdown",
   "id": "65461dff",
   "metadata": {},
   "source": [
    "## 1. Import packages / set working directory"
   ]
  },
  {
   "cell_type": "code",
   "execution_count": 1,
   "id": "7becc1a3",
   "metadata": {},
   "outputs": [],
   "source": [
    "import os\n",
    "import io\n",
    "\n",
    "import earthpy as et\n",
    "import numpy as np\n",
    "import matplotlib.pyplot as plt\n",
    "import seaborn as sns\n",
    "import geopandas as gpd\n",
    "import geemap\n",
    "from shapely.geometry import shape\n",
    "import ee\n",
    "#import elevation\n",
    "import math\n",
    "\n",
    "# Initialize Google Earth Engine to generate area of interest \n",
    "try:\n",
    "    ee.Initialize()\n",
    "except Exception as e:\n",
    "    ee.Authenticate()\n",
    "    ee.Initialize()\n",
    "\n",
    "%matplotlib inline"
   ]
  },
  {
   "cell_type": "code",
   "execution_count": 2,
   "id": "40efbf41",
   "metadata": {},
   "outputs": [
    {
     "name": "stdout",
     "output_type": "stream",
     "text": [
      "path exists\n"
     ]
    }
   ],
   "source": [
    "# Set working directory\n",
    "\n",
    "# if the desired path exists:\n",
    "data_dir = os.path.join(et.io.HOME, 'Dropbox',\n",
    "                        'cu_earthdata_certificate_2021', 'earthlab_project', 'data')\n",
    "if os.path.exists(data_dir):\n",
    "    # set working directory:\n",
    "    os.chdir(data_dir)\n",
    "    print(\"path exists\")\n",
    "else:\n",
    "    print(\"path does not exist, making new path\")\n",
    "    os.makedirs(data_dir)\n",
    "    os.chdir(data_dir)"
   ]
  },
  {
   "cell_type": "markdown",
   "id": "290e1abd",
   "metadata": {},
   "source": [
    "## 2. Defining the bounds\n",
    "Let's import the bounds of our Area of Study"
   ]
  },
  {
   "cell_type": "code",
   "execution_count": 3,
   "id": "782318f7",
   "metadata": {},
   "outputs": [
    {
     "name": "stdout",
     "output_type": "stream",
     "text": [
      "An error occurred while downloading. \n",
      " Retrying ...\n",
      "Generating URL ...\n",
      "Downloading data from https://earthengine.googleapis.com/v1alpha/projects/earthengine-legacy/tables/bcd4f893d22c984d6f3baa633144a1c0-47edfc924c4872cf491449c6fe8a4cc4:getFeatures\n",
      "Please wait ...\n",
      "The crs of your area of interest df is epsg:4326\n"
     ]
    },
    {
     "data": {
      "text/html": [
       "<div>\n",
       "<style scoped>\n",
       "    .dataframe tbody tr th:only-of-type {\n",
       "        vertical-align: middle;\n",
       "    }\n",
       "\n",
       "    .dataframe tbody tr th {\n",
       "        vertical-align: top;\n",
       "    }\n",
       "\n",
       "    .dataframe thead th {\n",
       "        text-align: right;\n",
       "    }\n",
       "</style>\n",
       "<table border=\"1\" class=\"dataframe\">\n",
       "  <thead>\n",
       "    <tr style=\"text-align: right;\">\n",
       "      <th></th>\n",
       "      <th>geometry</th>\n",
       "    </tr>\n",
       "  </thead>\n",
       "  <tbody>\n",
       "    <tr>\n",
       "      <th>0</th>\n",
       "      <td>POLYGON ((-109.05041 31.33222, -103.00203 31.3...</td>\n",
       "    </tr>\n",
       "    <tr>\n",
       "      <th>1</th>\n",
       "      <td>POLYGON ((-114.05288 36.99765, -109.04157 36.9...</td>\n",
       "    </tr>\n",
       "    <tr>\n",
       "      <th>2</th>\n",
       "      <td>POLYGON ((-109.06020 36.99245, -102.04153 36.9...</td>\n",
       "    </tr>\n",
       "    <tr>\n",
       "      <th>3</th>\n",
       "      <td>POLYGON ((-111.05454 40.99478, -104.05226 40.9...</td>\n",
       "    </tr>\n",
       "    <tr>\n",
       "      <th>4</th>\n",
       "      <td>POLYGON ((-114.81657 31.33217, -109.04516 31.3...</td>\n",
       "    </tr>\n",
       "  </tbody>\n",
       "</table>\n",
       "</div>"
      ],
      "text/plain": [
       "                                            geometry\n",
       "0  POLYGON ((-109.05041 31.33222, -103.00203 31.3...\n",
       "1  POLYGON ((-114.05288 36.99765, -109.04157 36.9...\n",
       "2  POLYGON ((-109.06020 36.99245, -102.04153 36.9...\n",
       "3  POLYGON ((-111.05454 40.99478, -104.05226 40.9...\n",
       "4  POLYGON ((-114.81657 31.33217, -109.04516 31.3..."
      ]
     },
     "execution_count": 3,
     "metadata": {},
     "output_type": "execute_result"
    }
   ],
   "source": [
    "lis = ['Colorado','Utah', 'Wyoming', 'New Mexico', 'Arizona']\n",
    "states = ee.FeatureCollection(\"TIGER/2018/States\").filter(ee.Filter.inList('NAME', lis))\n",
    "\n",
    "states_gdf = geemap.ee_to_geopandas(states, selectors = ['NAME'])\n",
    "print(\"The crs of your area of interest df is\", states_gdf.crs)\n",
    "states_gdf.head()\n",
    "\n",
    "bounding_box = states_gdf.envelope\n",
    "states_bb = gpd.GeoDataFrame(gpd.GeoSeries(bounding_box), columns=['geometry'])\n",
    "states_bb"
   ]
  },
  {
   "cell_type": "code",
   "execution_count": 4,
   "id": "61237b8e",
   "metadata": {
    "scrolled": true
   },
   "outputs": [
    {
     "data": {
      "application/vnd.jupyter.widget-view+json": {
       "model_id": "433c23628055491f8d132866713fcffd",
       "version_major": 2,
       "version_minor": 0
      },
      "text/plain": [
       "Map(center=[40, -100], controls=(WidgetControl(options=['position', 'transparent_bg'], widget=HBox(children=(T…"
      ]
     },
     "metadata": {},
     "output_type": "display_data"
    }
   ],
   "source": [
    "Map = geemap.Map()\n",
    "Map"
   ]
  },
  {
   "cell_type": "code",
   "execution_count": 5,
   "id": "48b12c2f",
   "metadata": {},
   "outputs": [],
   "source": [
    "elevation = ee.Image('USGS/NED').select('elevation')\n",
    "\n",
    "terrain = ee.Image(\"CGIAR/SRTM90_V4\").float()                                    \n",
    "\n",
    "vis_params={\n",
    "    \"min\": 0, \n",
    "    \"max\": 4000,\n",
    "    \"palette\": ['006633', 'E5FFCC', '662A00', 'D8D8D8', 'F5F5F5']\n",
    "}\n",
    "Map.addLayer(terrain, vis_params, 'terrain')"
   ]
  },
  {
   "cell_type": "code",
   "execution_count": 6,
   "id": "ced52670",
   "metadata": {},
   "outputs": [],
   "source": [
    "# Import file containing full catchment for each burned lake\n",
    "# from local drive generated in 01_download_clip_merge.ipynb\n",
    "file_path = os.path.join('land_only_whole_ctchmt_aqst.shp')\n",
    "\n",
    "# Geodataframe used in folium map\n",
    "land_catchmts = gpd.read_file(file_path)\n",
    "\n",
    "# EE object used for Earth Engine collections and calculations\n",
    "#small_gdf = land_catchmts[[\"Hylak_id\", \"geometry\"]]\n",
    "land_ctchmts_ee = geemap.geopandas_to_ee(land_catchmts)"
   ]
  },
  {
   "cell_type": "code",
   "execution_count": 7,
   "id": "bd641a68",
   "metadata": {},
   "outputs": [],
   "source": [
    "# Estimating the slope\n",
    "slope = ee.Terrain.slope(terrain).float()\n",
    "\n",
    "# Estimating the hillshade\n",
    "aspect = ee.Terrain.aspect(terrain).float()\n",
    "northness = aspect.cos().rename('northness')\n",
    "eastness = aspect.sin().rename('eastness')\n",
    "\n",
    "# Indices from Theobald and CSP\n",
    "mtpi = ee.Image('CSP/ERGo/1_0/US/mTPI').rename('mtpi').resample('bicubic')\n",
    "chili = ee.Image('CSP/ERGo/1_0/US/CHILI').rename('chili').resample('bicubic')\n",
    "tdiv = ee.Image(\n",
    "    'CSP/ERGo/1_0/US/topoDiversity').rename('tdiv').resample('bicubic')\n",
    "physd = ee.Image(\n",
    "    'CSP/ERGo/1_0/US/physioDiversity').rename('physd').resample('bicubic')\n",
    "landform = ee.Image(\n",
    "    'CSP/ERGo/1_0/US/landforms').rename('landform').resample().toFloat()\n",
    "\n",
    "# Adding the slope and hillshade to the dem\n",
    "newterrain = terrain.addBands(slope).addBands(aspect).addBands(\n",
    "    chili).addBands(tdiv).addBands(physd).addBands(landform)"
   ]
  },
  {
   "cell_type": "code",
   "execution_count": 8,
   "id": "bdb66449",
   "metadata": {},
   "outputs": [],
   "source": [
    "# Import area of interest"
   ]
  },
  {
   "cell_type": "code",
   "execution_count": 9,
   "id": "2eef9ef1",
   "metadata": {},
   "outputs": [],
   "source": [
    "# Indices from Theobald and CSP\n",
    "mtpi = ee.Image('CSP/ERGo/1_0/US/mTPI').rename('mtpi').resample('bicubic')\n",
    "chili = ee.Image('CSP/ERGo/1_0/US/CHILI').rename('chili').resample('bicubic')\n",
    "tdiv = ee.Image(\n",
    "    'CSP/ERGo/1_0/US/topoDiversity').rename('tdiv').resample('bicubic')\n",
    "physd = ee.Image(\n",
    "    'CSP/ERGo/1_0/US/physioDiversity').rename('physd').resample('bicubic')\n",
    "landform = ee.Image(\n",
    "    'CSP/ERGo/1_0/US/landforms').rename('landform').resample().toFloat()\n",
    "\n",
    "# add topographic bands to the image\n",
    "topo = ee.Image.cat(elevation, aspect, northness, eastness,\n",
    "                    slope, chili, tdiv, mtpi, physd, landform).clip(land_catchmts)"
   ]
  },
  {
   "cell_type": "code",
   "execution_count": 10,
   "id": "69426af5",
   "metadata": {},
   "outputs": [],
   "source": [
    "reduced_fc = newterrain.reduceRegions(\n",
    "    reducer=ee.Reducer.mean(),\n",
    "    collection=land_ctchmts_ee,\n",
    "    scale=30)"
   ]
  },
  {
   "cell_type": "code",
   "execution_count": 11,
   "id": "c61d5d5b",
   "metadata": {},
   "outputs": [],
   "source": [
    "# Function to Convert Feature Classes to Pandas Dataframe\n",
    "# Adapted from: https://events.hpc.grnet.gr/event/47/material/1/12.py\n",
    "def fc2df(fc):\n",
    "    # Convert a FeatureCollection into a pandas DataFrame\n",
    "    # Features is a list of dict with the output\n",
    "    features = fc.getInfo()['features']\n",
    "\n",
    "    dictarr = []\n",
    "\n",
    "    for f in features:\n",
    "        # Store all attributes in a dict\n",
    "        attr = f['properties']\n",
    "        # and treat geometry separately\n",
    "        attr['geometry'] = f['geometry']  # GeoJSON Feature!\n",
    "        # attr['geometrytype'] = f['geometry']['type']\n",
    "        dictarr.append(attr)\n",
    "\n",
    "    df = gpd.GeoDataFrame(dictarr)\n",
    "    # Convert GeoJSON features to shape\n",
    "    df['geometry'] = map(lambda s: shape(s), df.geometry)\n",
    "    return df"
   ]
  },
  {
   "cell_type": "code",
   "execution_count": 12,
   "id": "b27a2017",
   "metadata": {},
   "outputs": [],
   "source": [
    "# Convert to Pandas Dataframe\n",
    "df_image_red = fc2df(reduced_fc)"
   ]
  },
  {
   "cell_type": "code",
   "execution_count": 13,
   "id": "987236b1",
   "metadata": {},
   "outputs": [
    {
     "name": "stdout",
     "output_type": "stream",
     "text": [
      "<class 'geopandas.geodataframe.GeoDataFrame'>\n",
      "RangeIndex: 547 entries, 0 to 546\n",
      "Data columns (total 49 columns):\n",
      " #   Column      Non-Null Count  Dtype  \n",
      "---  ------      --------------  -----  \n",
      " 0   Hylak_id    547 non-null    int64  \n",
      " 1   SiteID      547 non-null    object \n",
      " 2   TZID        547 non-null    object \n",
      " 3   aspect      547 non-null    float64\n",
      " 4   blue        547 non-null    float64\n",
      " 5   blue_sd     543 non-null    float64\n",
      " 6   chili       547 non-null    int64  \n",
      " 7   chl_a       88 non-null     float64\n",
      " 8   clouds      547 non-null    float64\n",
      " 9   date        547 non-null    object \n",
      " 10  date_only   547 non-null    int64  \n",
      " 11  date_unity  547 non-null    object \n",
      " 12  date_utc    547 non-null    object \n",
      " 13  doc         34 non-null     float64\n",
      " 14  elevation   547 non-null    int64  \n",
      " 15  endtime     547 non-null    object \n",
      " 16  green       547 non-null    float64\n",
      " 17  green_sd    543 non-null    float64\n",
      " 18  id          547 non-null    object \n",
      " 19  landform    547 non-null    int64  \n",
      " 20  landsat_id  547 non-null    object \n",
      " 21  nir         547 non-null    float64\n",
      " 22  nir_sd      543 non-null    float64\n",
      " 23  p_sand      0 non-null      object \n",
      " 24  path        547 non-null    int64  \n",
      " 25  physd       547 non-null    float64\n",
      " 26  pixelCount  547 non-null    int64  \n",
      " 27  pwater      547 non-null    float64\n",
      " 28  qa          547 non-null    int64  \n",
      " 29  qa_sd       543 non-null    float64\n",
      " 30  red         547 non-null    float64\n",
      " 31  red_sd      543 non-null    float64\n",
      " 32  row         547 non-null    int64  \n",
      " 33  sat         547 non-null    int64  \n",
      " 34  secchi      420 non-null    float64\n",
      " 35  slope       547 non-null    float64\n",
      " 36  source      547 non-null    object \n",
      " 37  swir1       547 non-null    float64\n",
      " 38  swir1_sd    543 non-null    float64\n",
      " 39  swir2       547 non-null    float64\n",
      " 40  swir2_sd    543 non-null    float64\n",
      " 41  system_ind  547 non-null    int64  \n",
      " 42  tdiv        547 non-null    float64\n",
      " 43  time        547 non-null    object \n",
      " 44  timediff    547 non-null    float64\n",
      " 45  tis         0 non-null      object \n",
      " 46  tss         118 non-null    float64\n",
      " 47  type        547 non-null    object \n",
      " 48  geometry    547 non-null    object \n",
      "dtypes: float64(24), int64(11), object(14)\n",
      "memory usage: 209.5+ KB\n"
     ]
    }
   ],
   "source": [
    "df_image_red.info()"
   ]
  },
  {
   "cell_type": "code",
   "execution_count": 15,
   "id": "e51aee74",
   "metadata": {},
   "outputs": [],
   "source": [
    "# Export file to local drive\n",
    "out_path = os.path.join(\"lake_topography.csv\")\n",
    "df_image_red.to_csv(out_path)"
   ]
  }
 ],
 "metadata": {
  "hide_input": false,
  "kernelspec": {
   "display_name": "Python 3",
   "language": "python",
   "name": "python3"
  },
  "language_info": {
   "codemirror_mode": {
    "name": "ipython",
    "version": 3
   },
   "file_extension": ".py",
   "mimetype": "text/x-python",
   "name": "python",
   "nbconvert_exporter": "python",
   "pygments_lexer": "ipython3",
   "version": "3.7.10"
  },
  "toc": {
   "base_numbering": 1,
   "nav_menu": {},
   "number_sections": false,
   "sideBar": true,
   "skip_h1_title": false,
   "title_cell": "Table of Contents",
   "title_sidebar": "Contents",
   "toc_cell": false,
   "toc_position": {},
   "toc_section_display": true,
   "toc_window_display": true
  }
 },
 "nbformat": 4,
 "nbformat_minor": 5
}
