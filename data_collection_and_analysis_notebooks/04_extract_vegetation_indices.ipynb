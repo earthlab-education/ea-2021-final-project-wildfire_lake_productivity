{
 "cells": [
  {
   "cell_type": "code",
   "execution_count": 1,
   "id": "5f850ff8",
   "metadata": {},
   "outputs": [],
   "source": [
    "import ee\n",
    "import os\n",
    "import earthpy as et\n",
    "\n",
    "\n",
    "import geemap as emap\n",
    "import folium\n",
    "import geopandas as gpd\n",
    "import time\n",
    "\n",
    "\n",
    "try:\n",
    "    ee.Initialize()\n",
    "except Exception as e:\n",
    "    ee.Authenticate()\n",
    "    ee.Initialize()"
   ]
  },
  {
   "cell_type": "code",
   "execution_count": 2,
   "id": "8006d409",
   "metadata": {},
   "outputs": [
    {
     "name": "stdout",
     "output_type": "stream",
     "text": [
      "path exists\n"
     ]
    }
   ],
   "source": [
    "# Set working directory\n",
    "\n",
    "# if the desired path exists:\n",
    "data_dir = os.path.join(et.io.HOME, 'Dropbox',\n",
    "                        'cu_earthdata_certificate_2021', 'earthlab_project', 'data')\n",
    "if os.path.exists(data_dir):\n",
    "    # set working directory:\n",
    "    os.chdir(data_dir)\n",
    "    print(\"path exists\")\n",
    "else:\n",
    "    print(\"path does not exist, making new path\")\n",
    "    os.makedirs(data_dir)\n",
    "    os.chdir(data_dir)"
   ]
  },
  {
   "cell_type": "code",
   "execution_count": 3,
   "id": "615863b0",
   "metadata": {},
   "outputs": [],
   "source": [
    "# Import file containing full catchment for each burned lake\n",
    "# from local drive generated in 01_download_clip_merge.ipynb\n",
    "file_path = os.path.join('burned_w_aquasat_polys.geojson')\n",
    "\n",
    "# Geodataframe used in folium map\n",
    "lake_catchmts = gpd.read_file(file_path).to_crs(epsg=4326)\n",
    "\n",
    "# EE object used for Earth Engine collections and calculations\n",
    "small_gdf = lake_catchmts[[\"Hylak_id\", \"geometry\"]]\n",
    "lake_ctchmts_ee = emap.geopandas_to_ee(small_gdf)"
   ]
  },
  {
   "cell_type": "code",
   "execution_count": 4,
   "id": "168fdce4",
   "metadata": {},
   "outputs": [],
   "source": [
    "# Define a function to calculate NBR.\n",
    "def add_nbr(img):\n",
    "    nbr = img.normalizedDifference(['B4', 'B7']).multiply(1000).select([0], ['NBR']);\n",
    "    return img.addBands(nbr)\n",
    "\n",
    "# Define a function to calculate NDVI.\n",
    "def add_ndvi(img):\n",
    "    ndvi = img.normalizedDifference(['B5', 'B4']).multiply(1000).select([0], ['NDVI']);\n",
    "    return img.addBands(ndvi);\n",
    "    #return image.normalizedDifference(['B5', 'B4']).rename('NDVI')\n",
    "\n"
   ]
  },
  {
   "cell_type": "code",
   "execution_count": 14,
   "id": "f01cbcde",
   "metadata": {},
   "outputs": [],
   "source": [
    "# This function adds a band representing the image timestamp.\n",
    "def addTime(image): \n",
    "    return image.addBands(image.metadata('system:time_start'))\n",
    "\n",
    "# Define a function to add year as an image property.\n",
    "def set_year(img):\n",
    "    year = ee.Image(img).date().get('year')\n",
    "    return img.addBands(year);"
   ]
  },
  {
   "cell_type": "code",
   "execution_count": 15,
   "id": "2f970920",
   "metadata": {},
   "outputs": [],
   "source": [
    "# Define a function to mask out clouds and cloud shadows.\n",
    "def cfmask(img):\n",
    "    cloud_shadow_bi_mask = 1 << 3\n",
    "    cloud_bit_mask = 1 << 5\n",
    "    qa = img.select('pixel_qa')\n",
    "    mask = qa.bitwiseAnd(cloud_shadow_bi_mask).eq(0).And(\n",
    "      qa.bitwiseAnd(cloud_bit_mask).eq(0))\n",
    "    return img.updateMask(mask)\n",
    "\n"
   ]
  },
  {
   "cell_type": "code",
   "execution_count": 16,
   "id": "b32b9618",
   "metadata": {},
   "outputs": [],
   "source": [
    "def l8cloudmask(img):\n",
    "    fillBitMask = 1\n",
    "    clearBitMask = 1 << 1\n",
    "    waterBitMask = 1 << 2\n",
    "    cloudShadowBitMask = 1 << 3\n",
    "    snowBitMask = 1 << 4\n",
    "    cloudConfBitMask = 1 << 7\n",
    "    cirrusConfBitMask = 1 << 9\n",
    "    occlusionBitMask = 1 << 10\n",
    "\n",
    "    ls_bands = ee.List(['B4', 'B5', 'B6'])\n",
    "    pixelqa_name = 'BQA'\n",
    "\n",
    "  # Get the pixel QA band\n",
    "    pixelqa = img.select(pixelqa_name)\n",
    "\n",
    "    mask = pixelqa.bitwiseAnd(fillBitMask).eq(0).And(pixelqa.bitwiseAnd(clearBitMask).neq(0)).And(pixelqa.bitwiseAnd(waterBitMask).eq(0)).And(pixelqa.bitwiseAnd(cloudShadowBitMask).eq(0)).And(pixelqa.bitwiseAnd(snowBitMask).eq(0)).And(pixelqa.bitwiseAnd(cloudConfBitMask).eq(0)).And(pixelqa.bitwiseAnd(cirrusConfBitMask).eq(0)).And(pixelqa.bitwiseAnd(occlusionBitMask).eq(0))  \n",
    "# Return the masked image (excluding the PIXELQA and STQA layers)\n",
    "    return img.updateMask(mask).select(ls_bands)"
   ]
  },
  {
   "cell_type": "code",
   "execution_count": 17,
   "id": "94d75406",
   "metadata": {},
   "outputs": [],
   "source": [
    "# Define a function to transfer feature properties to a dictionary.\n",
    "def fc_to_dict(fc):\n",
    "    \"\"\"Extracts the values from a FeatureCollection and stores them as a list in ee.Dictionary. ee.Dictionary\n",
    "    can be converted to a pandasDataframe if needed. \n",
    "    \n",
    "    Args:\n",
    "    ee.featureCollection:\n",
    "      An ee.featureCollection contains images and properties that can be converted \n",
    "      to a dictionary with geometries. \n",
    "      \n",
    "    Returns:\n",
    "    A ee.Dictionary (useful for converting to Pandas objects)\n",
    "    \"\"\"\n",
    "    prop_names = fc.first().propertyNames()\n",
    "    prop_lists = fc.reduceColumns(\n",
    "      reducer=ee.Reducer.toList().repeat(prop_names.size()),\n",
    "      selectors=prop_names).get('list')\n",
    "\n",
    "    return ee.Dictionary.fromLists(prop_names, prop_lists)"
   ]
  },
  {
   "cell_type": "code",
   "execution_count": 18,
   "id": "de1c0b23",
   "metadata": {},
   "outputs": [],
   "source": [
    "point = ee.Geometry.Point(-83.93, 35.85)"
   ]
  },
  {
   "cell_type": "code",
   "execution_count": 19,
   "id": "25c024d8",
   "metadata": {},
   "outputs": [
    {
     "data": {
      "text/plain": [
       "{'max': None,\n",
       " 'mean': 0,\n",
       " 'min': None,\n",
       " 'sample_sd': 0,\n",
       " 'sample_var': 0,\n",
       " 'sum': 0,\n",
       " 'sum_sq': 0,\n",
       " 'total_count': 0,\n",
       " 'total_sd': 0,\n",
       " 'total_var': 0,\n",
       " 'valid_count': 0,\n",
       " 'weight_sum': 0,\n",
       " 'weighted_sum': 0}"
      ]
     },
     "execution_count": 19,
     "metadata": {},
     "output_type": "execute_result"
    }
   ],
   "source": [
    "# select three Landsat 8 imagery in the Southwest area with the least cloud coverage\n",
    "collection = ee.ImageCollection('LANDSAT/LC08/C01/T1_SR') \\\n",
    "    .filterDate('2017-03-01','2017-04-30')\\\n",
    "    .select(['B4','B5', 'B6','B7','pixel_qa'])\\\n",
    "    .filterBounds(lake_ctchmts_ee)\n",
    "\n",
    "# calculate NDVI for each image using the map fucntion    \n",
    "vi_images = collection.map(addTime)\n",
    "vi_images = vi_images.map(cfmask)\n",
    "\n",
    "# calculate VI for each image using the map fucntion    \n",
    "vi_images = vi_images.map(add_ndvi)\n",
    "vi_images = vi_images.map(add_nbr)\n",
    "vi_images = vi_images.map(set_year)\n",
    "\n",
    "vi_median = vi_images.median()\n",
    "\n",
    "\n",
    "ls8_reduced_mean = ee.FeatureCollection(vi_median.reduceRegions(reducer=ee.Reducer.mean(),\n",
    "                                        collection=lake_ctchmts_ee,\n",
    "                                        scale=30))\n",
    "\n",
    "\n",
    "\n",
    "ls8_reduced_mean.aggregate_stats('mean').getInfo()"
   ]
  },
  {
   "cell_type": "code",
   "execution_count": 20,
   "id": "0f810d3d",
   "metadata": {},
   "outputs": [],
   "source": [
    "task = ee.batch.Export.table.toDrive(**{\n",
    "    'collection': ls8_reduced_mean,\n",
    "    'description': 'vi_mock_export',\n",
    "    'folder':'new_example_folder',\n",
    "    'fileFormat': 'CSV'\n",
    "})\n",
    "\n",
    "task.start()"
   ]
  },
  {
   "cell_type": "code",
   "execution_count": 21,
   "id": "943c41ab",
   "metadata": {},
   "outputs": [
    {
     "name": "stdout",
     "output_type": "stream",
     "text": [
      "Polling for task (id: 6MPUO3LYRK7TZPBNNZQ3TV3U).\n",
      "Polling for task (id: 6MPUO3LYRK7TZPBNNZQ3TV3U).\n"
     ]
    }
   ],
   "source": [
    "while task.active():\n",
    "    print('Polling for task (id: {}).'.format(task.id))\n",
    "    time.sleep(15)"
   ]
  },
  {
   "cell_type": "code",
   "execution_count": 24,
   "id": "811f64ca",
   "metadata": {},
   "outputs": [
    {
     "data": {
      "application/vnd.jupyter.widget-view+json": {
       "model_id": "0b768bd2432143479ce8e5066ef38e63",
       "version_major": 2,
       "version_minor": 0
      },
      "text/plain": [
       "Map(center=[37, -105], controls=(WidgetControl(options=['position', 'transparent_bg'], widget=HBox(children=(T…"
      ]
     },
     "metadata": {},
     "output_type": "display_data"
    }
   ],
   "source": [
    "Map = emap.Map(center=[37,-105], zoom=8)\n",
    "Map.add_basemap('ROADMAP') # Add Google Map\n",
    "Map\n",
    "\n",
    "\n",
    "vizParams = {\n",
    "    'bands': ['NDVI', 'NBR', 'B6'],\n",
    "    'min': 0, \n",
    "    'max': 0.4\n",
    "}\n",
    "\n",
    "#Map.centerObject(lake_ctchmts_ee, 8)\n",
    "\n",
    "Map.addLayer(vi_median, vizParams, 'Landsat image ')\n",
    "\n",
    "Map.addLayer(lake_ctchmts_ee, {}, 'burnedlakes')\n",
    "    \n",
    "Map.addLayerControl()\n",
    "Map"
   ]
  },
  {
   "cell_type": "code",
   "execution_count": null,
   "id": "50f956d7",
   "metadata": {},
   "outputs": [],
   "source": []
  }
 ],
 "metadata": {
  "hide_input": false,
  "kernelspec": {
   "display_name": "Python 3",
   "language": "python",
   "name": "python3"
  },
  "language_info": {
   "codemirror_mode": {
    "name": "ipython",
    "version": 3
   },
   "file_extension": ".py",
   "mimetype": "text/x-python",
   "name": "python",
   "nbconvert_exporter": "python",
   "pygments_lexer": "ipython3",
   "version": "3.7.10"
  },
  "toc": {
   "base_numbering": 1,
   "nav_menu": {},
   "number_sections": true,
   "sideBar": true,
   "skip_h1_title": false,
   "title_cell": "Table of Contents",
   "title_sidebar": "Contents",
   "toc_cell": false,
   "toc_position": {},
   "toc_section_display": true,
   "toc_window_display": false
  }
 },
 "nbformat": 4,
 "nbformat_minor": 5
}
