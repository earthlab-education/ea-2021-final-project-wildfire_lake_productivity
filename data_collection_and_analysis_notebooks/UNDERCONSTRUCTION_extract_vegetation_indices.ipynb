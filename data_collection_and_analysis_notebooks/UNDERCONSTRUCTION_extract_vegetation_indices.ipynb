{
 "cells": [
  {
   "cell_type": "markdown",
   "id": "ff5a0a3e",
   "metadata": {},
   "source": [
    "Objectives:\n",
    "Step 4 of the wildfire-lake-productivity project\n",
    "\n",
    "1. Define functions to use Google Earth Engine (GEE or ee) data\n",
    "        a. cloud mask\n",
    "        b. date/ time indicators\n",
    "        c. vegetation indices\n",
    "        d. transfer ee feature properties to a dictionary\n",
    "\n",
    "2. Import burned catchment dataset \n",
    " \n",
    "3. Select relevant Landsat images (date and area of interest)\n",
    "   \n",
    "4. Generate table of vegetation index (VI) data\n",
    "\n",
    "5. Export table to Google Drive\n",
    "\n",
    "Run with wildfire-lake-productivity environment"
   ]
  },
  {
   "cell_type": "markdown",
   "id": "6c3eb32c",
   "metadata": {},
   "source": [
    "# 1.  Import packages"
   ]
  },
  {
   "cell_type": "code",
   "execution_count": 52,
   "id": "5f850ff8",
   "metadata": {},
   "outputs": [],
   "source": [
    "import ee\n",
    "import os\n",
    "from io import BytesIO\n",
    "import earthpy as et\n",
    "\n",
    "import geemap\n",
    "import folium\n",
    "import geopandas as gpd\n",
    "import pandas as pd\n",
    "import time\n",
    "import requests\n",
    "\n",
    "\n",
    "\n",
    "try:\n",
    "    ee.Initialize()\n",
    "except Exception as e:\n",
    "    ee.Authenticate()\n",
    "    ee.Initialize()"
   ]
  },
  {
   "cell_type": "markdown",
   "id": "0c7d308f",
   "metadata": {},
   "source": [
    "# 2. Set working directory"
   ]
  },
  {
   "cell_type": "code",
   "execution_count": 2,
   "id": "8006d409",
   "metadata": {},
   "outputs": [],
   "source": [
    "# Set working directory\n",
    "\n",
    "# if the desired path exists:\n",
    "data_dir = os.path.join(et.io.HOME, 'Dropbox',\n",
    "                        'cu_earthdata_certificate_2021', 'earthlab_project', 'data')\n",
    "if os.path.exists(data_dir):\n",
    "    # set working directory:\n",
    "    os.chdir(data_dir)\n",
    "else:\n",
    "    print(\"Be sure you have run first notebook to generate directory and required data\")"
   ]
  },
  {
   "cell_type": "code",
   "execution_count": 114,
   "id": "b32b9618",
   "metadata": {},
   "outputs": [],
   "source": [
    "# def l8cloudmask(img):\n",
    "#     fillBitMask = 1\n",
    "#     clearBitMask = 1 << 1\n",
    "#     waterBitMask = 1 << 2\n",
    "#     cloudShadowBitMask = 1 << 3\n",
    "#     snowBitMask = 1 << 4\n",
    "#     cloudConfBitMask = 1 << 7\n",
    "# #     cirrusConfBitMask = 1 << 9\n",
    "#     occlusionBitMask = 1 << 10\n",
    "\n",
    "#     ls_bands = ee.List(['B4', 'B5', 'B6'])\n",
    "#     pixelqa_name = 'BQA'\n",
    "\n",
    "#   # Get the pixel QA band\n",
    "#     pixelqa = img.select(pixelqa_name)\n",
    "\n",
    "#     mask = pixelqa.bitwiseAnd(fillBitMask).eq(0).And(pixelqa.bitwiseAnd(clearBitMask).neq(0)).And(pixelqa.bitwiseAnd(waterBitMask).eq(0)).And(pixelqa.bitwiseAnd(cloudShadowBitMask).eq(0)).And(pixelqa.bitwiseAnd(snowBitMask).eq(0)).And(pixelqa.bitwiseAnd(cloudConfBitMask).eq(0)).And(pixelqa.bitwiseAnd(cirrusConfBitMask).eq(0)).And(pixelqa.bitwiseAnd(occlusionBitMask).eq(0))  \n",
    "# # Return the masked image (excluding the PIXELQA and STQA layers)\n",
    "#     return img.updateMask(mask).select(ls_bands)"
   ]
  },
  {
   "cell_type": "code",
   "execution_count": null,
   "id": "97ba8eea",
   "metadata": {},
   "outputs": [],
   "source": []
  },
  {
   "cell_type": "code",
   "execution_count": 211,
   "id": "615863b0",
   "metadata": {},
   "outputs": [],
   "source": [
    "# Import file containing full catchment for each burned lake\n",
    "# from local drive generated in 01_download_clip_merge.ipynb\n",
    "file_path = os.path.join('land_only_whole_ctchmt_aqst.shp')\n",
    "\n",
    "# Geodataframe used in folium map\n",
    "land_catchmts = gpd.read_file(file_path)\n",
    "\n",
    "# EE object used for Earth Engine collections and calculations\n",
    "#small_gdf = land_catchmts[[\"Hylak_id\", \"geometry\"]]\n",
    "land_ctchmts_ee = geemap.geopandas_to_ee(land_catchmts)"
   ]
  },
  {
   "cell_type": "code",
   "execution_count": 212,
   "id": "225011b3",
   "metadata": {},
   "outputs": [
    {
     "data": {
      "application/vnd.jupyter.widget-view+json": {
       "model_id": "ed9018e272e14bf69c3d8c8f084a1c69",
       "version_major": 2,
       "version_minor": 0
      },
      "text/plain": [
       "Map(center=[40, -100], controls=(WidgetControl(options=['position', 'transparent_bg'], widget=HBox(children=(T…"
      ]
     },
     "metadata": {},
     "output_type": "display_data"
    }
   ],
   "source": [
    "Map = geemap.Map()\n",
    "Map.addLayer(land_ctchmts_ee, {}, \"geopandas to ee\")\n",
    "Map"
   ]
  },
  {
   "cell_type": "code",
   "execution_count": 118,
   "id": "de1c0b23",
   "metadata": {},
   "outputs": [],
   "source": [
    "id_list = land_catchmts['landsat_id'].tolist()"
   ]
  },
  {
   "cell_type": "code",
   "execution_count": 205,
   "id": "ce2c84e1",
   "metadata": {},
   "outputs": [],
   "source": [
    "reduce_vi = create_reduce_regions_function(\n",
    "    collection=land_ctchmts_ee, reducer=ee.Reducer.mean(), scale=30, crs='EPSG:4326')\n",
    "\n",
    "collection = ee.ImageCollection('LANDSAT/LC08/C01/T1_SR')\\\n",
    "    .filter(ee.Filter.inList('LANDSAT_ID', ee.List(id_list)))\\\n",
    "    .map(add_ndvi)\\\n",
    "    .select('NDVI')\n",
    "# .select(['B4', 'B5', 'B6', 'B7', 'pixel_qa'])\\\n",
    "# .map(add_nbr)\\\n",
    "# .map(cfmask)\\\n",
    "# .map(add_ndvi)\n",
    "\n",
    "median = collection.median()\n",
    "# def reduce_salt(image):\n",
    "#   reduced = image.reduceRegions(\n",
    "#               reducer=ee.Reducer.mean(),\n",
    "#               collection=land_ctchmts_ee,\n",
    "#               scale=30)\n",
    "#   return ee.Feature(None, reduced) \n",
    "\n",
    "                                    \n",
    "# pdsi_stat_fc = ee.FeatureCollection(collection.map(reduce_salt))#.filter(\n",
    "#     #ee.Filter.notNull(collection.first().bandNames()))\n",
    "\n",
    "# pdsi_stat_fc=fc_to_dict(pdsi_stat_fc).getInfo()\n",
    "\n",
    "# print(type(pdsi_stat_fc), '\\n')\n",
    "# for prop in featureCollection.keys():\n",
    "#     print(prop + ':', featureCollection[prop][0:3] + ['...'])"
   ]
  },
  {
   "cell_type": "code",
   "execution_count": 206,
   "id": "1110e698",
   "metadata": {},
   "outputs": [],
   "source": [
    "js_snippet = \"\"\"\n",
    "// Load input imagery: Landsat 7 5-year composite.\n",
    "var image = ee.Image('LANDSAT/LE7_TOA_5YEAR/2008_2012');\n",
    "\n",
    "// Load a FeatureCollection of counties in Maine.\n",
    "var maineCounties = ee.FeatureCollection('TIGER/2016/Counties')\n",
    "  .filter(ee.Filter.eq('STATEFP', '23'));\n",
    "\n",
    "// Add reducer output to the Features in the collection.\n",
    "var maineMeansFeatures = image.reduceRegions({\n",
    "  collection: maineCounties,\n",
    "  reducer: ee.Reducer.mean(),\n",
    "  scale: 30,\n",
    "});\n",
    "\n",
    "// Print the first feature, to illustrate the result.\n",
    "print(ee.Feature(maineMeansFeatures.first()).select(image.bandNames()));\n",
    "\"\"\""
   ]
  },
  {
   "cell_type": "code",
   "execution_count": 207,
   "id": "8563ccf4",
   "metadata": {},
   "outputs": [],
   "source": [
    "geemap.js_snippet_to_py(js_snippet, add_new_cell=True, import_ee=True, import_geemap=True, show_map=True)"
   ]
  },
  {
   "cell_type": "code",
   "execution_count": 210,
   "id": "fef6be24",
   "metadata": {},
   "outputs": [
    {
     "ename": "EEException",
     "evalue": "Unrecognized argument type to convert to a FeatureCollection: {'collection': <ee.featurecollection.FeatureCollection object at 0x7fb252204910>, 'reducer': <ee.Reducer object at 0x7fb252204d50>, 'scale': 30}",
     "output_type": "error",
     "traceback": [
      "\u001b[0;31m---------------------------------------------------------------------------\u001b[0m",
      "\u001b[0;31mEEException\u001b[0m                               Traceback (most recent call last)",
      "\u001b[0;32m<ipython-input-210-4417922e8b6a>\u001b[0m in \u001b[0;36m<module>\u001b[0;34m\u001b[0m\n\u001b[1;32m     15\u001b[0m   \u001b[0;34m'collection'\u001b[0m\u001b[0;34m:\u001b[0m \u001b[0mmaineCounties\u001b[0m\u001b[0;34m,\u001b[0m\u001b[0;34m\u001b[0m\u001b[0;34m\u001b[0m\u001b[0m\n\u001b[1;32m     16\u001b[0m   \u001b[0;34m'reducer'\u001b[0m\u001b[0;34m:\u001b[0m \u001b[0mee\u001b[0m\u001b[0;34m.\u001b[0m\u001b[0mReducer\u001b[0m\u001b[0;34m.\u001b[0m\u001b[0mmean\u001b[0m\u001b[0;34m(\u001b[0m\u001b[0;34m)\u001b[0m\u001b[0;34m,\u001b[0m\u001b[0;34m\u001b[0m\u001b[0;34m\u001b[0m\u001b[0m\n\u001b[0;32m---> 17\u001b[0;31m   \u001b[0;34m'scale'\u001b[0m\u001b[0;34m:\u001b[0m \u001b[0;36m30\u001b[0m\u001b[0;34m\u001b[0m\u001b[0;34m\u001b[0m\u001b[0m\n\u001b[0m\u001b[1;32m     18\u001b[0m })\n\u001b[1;32m     19\u001b[0m \u001b[0;34m\u001b[0m\u001b[0m\n",
      "\u001b[0;32m~/miniconda3/envs/wildfire-lake-productivity/lib/python3.7/site-packages/ee/apifunction.py\u001b[0m in \u001b[0;36m<lambda>\u001b[0;34m(*args, **kwargs)\u001b[0m\n\u001b[1;32m    203\u001b[0m         \u001b[0;32mdef\u001b[0m \u001b[0mMakeBoundFunction\u001b[0m\u001b[0;34m(\u001b[0m\u001b[0mfunc\u001b[0m\u001b[0;34m)\u001b[0m\u001b[0;34m:\u001b[0m\u001b[0;34m\u001b[0m\u001b[0;34m\u001b[0m\u001b[0m\n\u001b[1;32m    204\u001b[0m           \u001b[0;31m# We need the lambda to capture \"func\" from the enclosing scope.\u001b[0m\u001b[0;34m\u001b[0m\u001b[0;34m\u001b[0m\u001b[0;34m\u001b[0m\u001b[0m\n\u001b[0;32m--> 205\u001b[0;31m           \u001b[0;32mreturn\u001b[0m \u001b[0;32mlambda\u001b[0m \u001b[0;34m*\u001b[0m\u001b[0margs\u001b[0m\u001b[0;34m,\u001b[0m \u001b[0;34m**\u001b[0m\u001b[0mkwargs\u001b[0m\u001b[0;34m:\u001b[0m \u001b[0mfunc\u001b[0m\u001b[0;34m.\u001b[0m\u001b[0mcall\u001b[0m\u001b[0;34m(\u001b[0m\u001b[0;34m*\u001b[0m\u001b[0margs\u001b[0m\u001b[0;34m,\u001b[0m \u001b[0;34m**\u001b[0m\u001b[0mkwargs\u001b[0m\u001b[0;34m)\u001b[0m  \u001b[0;31m# pylint: disable=unnecessary-lambda\u001b[0m\u001b[0;34m\u001b[0m\u001b[0;34m\u001b[0m\u001b[0m\n\u001b[0m\u001b[1;32m    206\u001b[0m         \u001b[0mbound_function\u001b[0m \u001b[0;34m=\u001b[0m \u001b[0mMakeBoundFunction\u001b[0m\u001b[0;34m(\u001b[0m\u001b[0mapi_func\u001b[0m\u001b[0;34m)\u001b[0m\u001b[0;34m\u001b[0m\u001b[0;34m\u001b[0m\u001b[0m\n\u001b[1;32m    207\u001b[0m \u001b[0;34m\u001b[0m\u001b[0m\n",
      "\u001b[0;32m~/miniconda3/envs/wildfire-lake-productivity/lib/python3.7/site-packages/ee/function.py\u001b[0m in \u001b[0;36mcall\u001b[0;34m(self, *args, **kwargs)\u001b[0m\n\u001b[1;32m     65\u001b[0m       \u001b[0mto\u001b[0m \u001b[0mthat\u001b[0m \u001b[0mtype\u001b[0m\u001b[0;34m.\u001b[0m\u001b[0;34m\u001b[0m\u001b[0;34m\u001b[0m\u001b[0m\n\u001b[1;32m     66\u001b[0m     \"\"\"\n\u001b[0;32m---> 67\u001b[0;31m     \u001b[0;32mreturn\u001b[0m \u001b[0mself\u001b[0m\u001b[0;34m.\u001b[0m\u001b[0mapply\u001b[0m\u001b[0;34m(\u001b[0m\u001b[0mself\u001b[0m\u001b[0;34m.\u001b[0m\u001b[0mnameArgs\u001b[0m\u001b[0;34m(\u001b[0m\u001b[0margs\u001b[0m\u001b[0;34m,\u001b[0m \u001b[0mkwargs\u001b[0m\u001b[0;34m)\u001b[0m\u001b[0;34m)\u001b[0m\u001b[0;34m\u001b[0m\u001b[0;34m\u001b[0m\u001b[0m\n\u001b[0m\u001b[1;32m     68\u001b[0m \u001b[0;34m\u001b[0m\u001b[0m\n\u001b[1;32m     69\u001b[0m   \u001b[0;32mdef\u001b[0m \u001b[0mapply\u001b[0m\u001b[0;34m(\u001b[0m\u001b[0mself\u001b[0m\u001b[0;34m,\u001b[0m \u001b[0mnamed_args\u001b[0m\u001b[0;34m)\u001b[0m\u001b[0;34m:\u001b[0m\u001b[0;34m\u001b[0m\u001b[0;34m\u001b[0m\u001b[0m\n",
      "\u001b[0;32m~/miniconda3/envs/wildfire-lake-productivity/lib/python3.7/site-packages/ee/function.py\u001b[0m in \u001b[0;36mapply\u001b[0;34m(self, named_args)\u001b[0m\n\u001b[1;32m     78\u001b[0m       \u001b[0mto\u001b[0m \u001b[0mthat\u001b[0m \u001b[0mtype\u001b[0m\u001b[0;34m.\u001b[0m\u001b[0;34m\u001b[0m\u001b[0;34m\u001b[0m\u001b[0m\n\u001b[1;32m     79\u001b[0m     \"\"\"\n\u001b[0;32m---> 80\u001b[0;31m     \u001b[0mresult\u001b[0m \u001b[0;34m=\u001b[0m \u001b[0mcomputedobject\u001b[0m\u001b[0;34m.\u001b[0m\u001b[0mComputedObject\u001b[0m\u001b[0;34m(\u001b[0m\u001b[0mself\u001b[0m\u001b[0;34m,\u001b[0m \u001b[0mself\u001b[0m\u001b[0;34m.\u001b[0m\u001b[0mpromoteArgs\u001b[0m\u001b[0;34m(\u001b[0m\u001b[0mnamed_args\u001b[0m\u001b[0;34m)\u001b[0m\u001b[0;34m)\u001b[0m\u001b[0;34m\u001b[0m\u001b[0;34m\u001b[0m\u001b[0m\n\u001b[0m\u001b[1;32m     81\u001b[0m     \u001b[0;32mreturn\u001b[0m \u001b[0mFunction\u001b[0m\u001b[0;34m.\u001b[0m\u001b[0m_promoter\u001b[0m\u001b[0;34m(\u001b[0m\u001b[0mresult\u001b[0m\u001b[0;34m,\u001b[0m \u001b[0mself\u001b[0m\u001b[0;34m.\u001b[0m\u001b[0mgetReturnType\u001b[0m\u001b[0;34m(\u001b[0m\u001b[0;34m)\u001b[0m\u001b[0;34m)\u001b[0m\u001b[0;34m\u001b[0m\u001b[0;34m\u001b[0m\u001b[0m\n\u001b[1;32m     82\u001b[0m \u001b[0;34m\u001b[0m\u001b[0m\n",
      "\u001b[0;32m~/miniconda3/envs/wildfire-lake-productivity/lib/python3.7/site-packages/ee/function.py\u001b[0m in \u001b[0;36mpromoteArgs\u001b[0;34m(self, args)\u001b[0m\n\u001b[1;32m    105\u001b[0m       \u001b[0mname\u001b[0m \u001b[0;34m=\u001b[0m \u001b[0mspec\u001b[0m\u001b[0;34m[\u001b[0m\u001b[0;34m'name'\u001b[0m\u001b[0;34m]\u001b[0m\u001b[0;34m\u001b[0m\u001b[0;34m\u001b[0m\u001b[0m\n\u001b[1;32m    106\u001b[0m       \u001b[0;32mif\u001b[0m \u001b[0mname\u001b[0m \u001b[0;32min\u001b[0m \u001b[0margs\u001b[0m\u001b[0;34m:\u001b[0m\u001b[0;34m\u001b[0m\u001b[0;34m\u001b[0m\u001b[0m\n\u001b[0;32m--> 107\u001b[0;31m         \u001b[0mpromoted_args\u001b[0m\u001b[0;34m[\u001b[0m\u001b[0mname\u001b[0m\u001b[0;34m]\u001b[0m \u001b[0;34m=\u001b[0m \u001b[0mFunction\u001b[0m\u001b[0;34m.\u001b[0m\u001b[0m_promoter\u001b[0m\u001b[0;34m(\u001b[0m\u001b[0margs\u001b[0m\u001b[0;34m[\u001b[0m\u001b[0mname\u001b[0m\u001b[0;34m]\u001b[0m\u001b[0;34m,\u001b[0m \u001b[0mspec\u001b[0m\u001b[0;34m[\u001b[0m\u001b[0;34m'type'\u001b[0m\u001b[0;34m]\u001b[0m\u001b[0;34m)\u001b[0m\u001b[0;34m\u001b[0m\u001b[0;34m\u001b[0m\u001b[0m\n\u001b[0m\u001b[1;32m    108\u001b[0m       \u001b[0;32melif\u001b[0m \u001b[0;32mnot\u001b[0m \u001b[0mspec\u001b[0m\u001b[0;34m.\u001b[0m\u001b[0mget\u001b[0m\u001b[0;34m(\u001b[0m\u001b[0;34m'optional'\u001b[0m\u001b[0;34m)\u001b[0m\u001b[0;34m:\u001b[0m\u001b[0;34m\u001b[0m\u001b[0;34m\u001b[0m\u001b[0m\n\u001b[1;32m    109\u001b[0m         raise ee_exception.EEException(\n",
      "\u001b[0;32m~/miniconda3/envs/wildfire-lake-productivity/lib/python3.7/site-packages/ee/__init__.py\u001b[0m in \u001b[0;36m_Promote\u001b[0;34m(arg, klass)\u001b[0m\n\u001b[1;32m    228\u001b[0m       \u001b[0;32mreturn\u001b[0m \u001b[0marg\u001b[0m\u001b[0;34m\u001b[0m\u001b[0;34m\u001b[0m\u001b[0m\n\u001b[1;32m    229\u001b[0m     \u001b[0;32melse\u001b[0m\u001b[0;34m:\u001b[0m\u001b[0;34m\u001b[0m\u001b[0;34m\u001b[0m\u001b[0m\n\u001b[0;32m--> 230\u001b[0;31m       \u001b[0;32mreturn\u001b[0m \u001b[0mFeatureCollection\u001b[0m\u001b[0;34m(\u001b[0m\u001b[0marg\u001b[0m\u001b[0;34m)\u001b[0m\u001b[0;34m\u001b[0m\u001b[0;34m\u001b[0m\u001b[0m\n\u001b[0m\u001b[1;32m    231\u001b[0m   \u001b[0;32melif\u001b[0m \u001b[0mklass\u001b[0m \u001b[0;34m==\u001b[0m \u001b[0;34m'ImageCollection'\u001b[0m\u001b[0;34m:\u001b[0m\u001b[0;34m\u001b[0m\u001b[0;34m\u001b[0m\u001b[0m\n\u001b[1;32m    232\u001b[0m     \u001b[0;32mreturn\u001b[0m \u001b[0mImageCollection\u001b[0m\u001b[0;34m(\u001b[0m\u001b[0marg\u001b[0m\u001b[0;34m)\u001b[0m\u001b[0;34m\u001b[0m\u001b[0;34m\u001b[0m\u001b[0m\n",
      "\u001b[0;32m~/miniconda3/envs/wildfire-lake-productivity/lib/python3.7/site-packages/ee/computedobject.py\u001b[0m in \u001b[0;36m__call__\u001b[0;34m(cls, *args, **kwargs)\u001b[0m\n\u001b[1;32m     30\u001b[0m       \u001b[0;32mreturn\u001b[0m \u001b[0margs\u001b[0m\u001b[0;34m[\u001b[0m\u001b[0;36m0\u001b[0m\u001b[0;34m]\u001b[0m\u001b[0;34m\u001b[0m\u001b[0;34m\u001b[0m\u001b[0m\n\u001b[1;32m     31\u001b[0m     \u001b[0;32melse\u001b[0m\u001b[0;34m:\u001b[0m\u001b[0;34m\u001b[0m\u001b[0;34m\u001b[0m\u001b[0m\n\u001b[0;32m---> 32\u001b[0;31m       \u001b[0;32mreturn\u001b[0m \u001b[0mtype\u001b[0m\u001b[0;34m.\u001b[0m\u001b[0m__call__\u001b[0m\u001b[0;34m(\u001b[0m\u001b[0mcls\u001b[0m\u001b[0;34m,\u001b[0m \u001b[0;34m*\u001b[0m\u001b[0margs\u001b[0m\u001b[0;34m,\u001b[0m \u001b[0;34m**\u001b[0m\u001b[0mkwargs\u001b[0m\u001b[0;34m)\u001b[0m\u001b[0;34m\u001b[0m\u001b[0;34m\u001b[0m\u001b[0m\n\u001b[0m\u001b[1;32m     33\u001b[0m \u001b[0;34m\u001b[0m\u001b[0m\n\u001b[1;32m     34\u001b[0m \u001b[0;34m\u001b[0m\u001b[0m\n",
      "\u001b[0;32m~/miniconda3/envs/wildfire-lake-productivity/lib/python3.7/site-packages/ee/featurecollection.py\u001b[0m in \u001b[0;36m__init__\u001b[0;34m(self, args, opt_column)\u001b[0m\n\u001b[1;32m     83\u001b[0m       raise ee_exception.EEException(\n\u001b[1;32m     84\u001b[0m           \u001b[0;34m'Unrecognized argument type to convert to a FeatureCollection: %s'\u001b[0m \u001b[0;34m%\u001b[0m\u001b[0;34m\u001b[0m\u001b[0;34m\u001b[0m\u001b[0m\n\u001b[0;32m---> 85\u001b[0;31m           args)\n\u001b[0m\u001b[1;32m     86\u001b[0m \u001b[0;34m\u001b[0m\u001b[0m\n\u001b[1;32m     87\u001b[0m   \u001b[0;34m@\u001b[0m\u001b[0mclassmethod\u001b[0m\u001b[0;34m\u001b[0m\u001b[0;34m\u001b[0m\u001b[0m\n",
      "\u001b[0;31mEEException\u001b[0m: Unrecognized argument type to convert to a FeatureCollection: {'collection': <ee.featurecollection.FeatureCollection object at 0x7fb252204910>, 'reducer': <ee.Reducer object at 0x7fb252204d50>, 'scale': 30}"
     ]
    }
   ],
   "source": [
    "import ee\n",
    "import geemap\n",
    "\n",
    "Map = geemap.Map()\n",
    "\n",
    "# Load input imagery: Landsat 7 5-year composite.\n",
    "image = ee.Image('LANDSAT/LE7_TOA_5YEAR/2008_2012')\n",
    "\n",
    "# Load a FeatureCollection of counties in Maine.\n",
    "maineCounties = ee.FeatureCollection('TIGER/2016/Counties') \\\n",
    "  .filter(ee.Filter.eq('STATEFP', '23'))\n",
    "\n",
    "# Add reducer output to the Features in the collection.\n",
    "maineMeansFeatures = image.reduceRegions({\n",
    "  'collection': maineCounties,\n",
    "  'reducer': ee.Reducer.mean(),\n",
    "  'scale': 30\n",
    "})\n",
    "\n",
    "# Print the first feature, to illustrate the result.\n",
    "#print(ee.Feature(maineMeansFeatures.first()).select(image.bandNames()))\n",
    "Map\n"
   ]
  },
  {
   "cell_type": "code",
   "execution_count": 202,
   "id": "a4577708",
   "metadata": {},
   "outputs": [
    {
     "ename": "EEException",
     "evalue": "Collection.first: Error in map(ID=LC08_032034_20150504):\nFeature, argument 'metadata': Invalid type.\nExpected type: Dictionary<Object>.\nActual type: FeatureCollection.",
     "output_type": "error",
     "traceback": [
      "\u001b[0;31m---------------------------------------------------------------------------\u001b[0m",
      "\u001b[0;31mHttpError\u001b[0m                                 Traceback (most recent call last)",
      "\u001b[0;32m~/miniconda3/envs/wildfire-lake-productivity/lib/python3.7/site-packages/ee/data.py\u001b[0m in \u001b[0;36m_execute_cloud_call\u001b[0;34m(call, num_retries)\u001b[0m\n\u001b[1;32m    333\u001b[0m   \u001b[0;32mtry\u001b[0m\u001b[0;34m:\u001b[0m\u001b[0;34m\u001b[0m\u001b[0;34m\u001b[0m\u001b[0m\n\u001b[0;32m--> 334\u001b[0;31m     \u001b[0;32mreturn\u001b[0m \u001b[0mcall\u001b[0m\u001b[0;34m.\u001b[0m\u001b[0mexecute\u001b[0m\u001b[0;34m(\u001b[0m\u001b[0mnum_retries\u001b[0m\u001b[0;34m=\u001b[0m\u001b[0mnum_retries\u001b[0m\u001b[0;34m)\u001b[0m\u001b[0;34m\u001b[0m\u001b[0;34m\u001b[0m\u001b[0m\n\u001b[0m\u001b[1;32m    335\u001b[0m   \u001b[0;32mexcept\u001b[0m \u001b[0mgoogleapiclient\u001b[0m\u001b[0;34m.\u001b[0m\u001b[0merrors\u001b[0m\u001b[0;34m.\u001b[0m\u001b[0mHttpError\u001b[0m \u001b[0;32mas\u001b[0m \u001b[0me\u001b[0m\u001b[0;34m:\u001b[0m\u001b[0;34m\u001b[0m\u001b[0;34m\u001b[0m\u001b[0m\n",
      "\u001b[0;32m~/miniconda3/envs/wildfire-lake-productivity/lib/python3.7/site-packages/googleapiclient/_helpers.py\u001b[0m in \u001b[0;36mpositional_wrapper\u001b[0;34m(*args, **kwargs)\u001b[0m\n\u001b[1;32m    133\u001b[0m                     \u001b[0mlogger\u001b[0m\u001b[0;34m.\u001b[0m\u001b[0mwarning\u001b[0m\u001b[0;34m(\u001b[0m\u001b[0mmessage\u001b[0m\u001b[0;34m)\u001b[0m\u001b[0;34m\u001b[0m\u001b[0;34m\u001b[0m\u001b[0m\n\u001b[0;32m--> 134\u001b[0;31m             \u001b[0;32mreturn\u001b[0m \u001b[0mwrapped\u001b[0m\u001b[0;34m(\u001b[0m\u001b[0;34m*\u001b[0m\u001b[0margs\u001b[0m\u001b[0;34m,\u001b[0m \u001b[0;34m**\u001b[0m\u001b[0mkwargs\u001b[0m\u001b[0;34m)\u001b[0m\u001b[0;34m\u001b[0m\u001b[0;34m\u001b[0m\u001b[0m\n\u001b[0m\u001b[1;32m    135\u001b[0m \u001b[0;34m\u001b[0m\u001b[0m\n",
      "\u001b[0;32m~/miniconda3/envs/wildfire-lake-productivity/lib/python3.7/site-packages/googleapiclient/http.py\u001b[0m in \u001b[0;36mexecute\u001b[0;34m(self, http, num_retries)\u001b[0m\n\u001b[1;32m    914\u001b[0m         \u001b[0;32mif\u001b[0m \u001b[0mresp\u001b[0m\u001b[0;34m.\u001b[0m\u001b[0mstatus\u001b[0m \u001b[0;34m>=\u001b[0m \u001b[0;36m300\u001b[0m\u001b[0;34m:\u001b[0m\u001b[0;34m\u001b[0m\u001b[0;34m\u001b[0m\u001b[0m\n\u001b[0;32m--> 915\u001b[0;31m             \u001b[0;32mraise\u001b[0m \u001b[0mHttpError\u001b[0m\u001b[0;34m(\u001b[0m\u001b[0mresp\u001b[0m\u001b[0;34m,\u001b[0m \u001b[0mcontent\u001b[0m\u001b[0;34m,\u001b[0m \u001b[0muri\u001b[0m\u001b[0;34m=\u001b[0m\u001b[0mself\u001b[0m\u001b[0;34m.\u001b[0m\u001b[0muri\u001b[0m\u001b[0;34m)\u001b[0m\u001b[0;34m\u001b[0m\u001b[0;34m\u001b[0m\u001b[0m\n\u001b[0m\u001b[1;32m    916\u001b[0m         \u001b[0;32mreturn\u001b[0m \u001b[0mself\u001b[0m\u001b[0;34m.\u001b[0m\u001b[0mpostproc\u001b[0m\u001b[0;34m(\u001b[0m\u001b[0mresp\u001b[0m\u001b[0;34m,\u001b[0m \u001b[0mcontent\u001b[0m\u001b[0;34m)\u001b[0m\u001b[0;34m\u001b[0m\u001b[0;34m\u001b[0m\u001b[0m\n",
      "\u001b[0;31mHttpError\u001b[0m: <HttpError 400 when requesting https://earthengine.googleapis.com/v1alpha/projects/earthengine-legacy/value:compute?prettyPrint=false&alt=json returned \"Collection.first: Error in map(ID=LC08_032034_20150504):\nFeature, argument 'metadata': Invalid type.\nExpected type: Dictionary<Object>.\nActual type: FeatureCollection.\". Details: \"Collection.first: Error in map(ID=LC08_032034_20150504):\nFeature, argument 'metadata': Invalid type.\nExpected type: Dictionary<Object>.\nActual type: FeatureCollection.\">",
      "\nDuring handling of the above exception, another exception occurred:\n",
      "\u001b[0;31mEEException\u001b[0m                               Traceback (most recent call last)",
      "\u001b[0;32m<ipython-input-202-3065e6f75ebc>\u001b[0m in \u001b[0;36m<module>\u001b[0;34m\u001b[0m\n\u001b[1;32m      6\u001b[0m \u001b[0mfc\u001b[0m \u001b[0;34m=\u001b[0m \u001b[0mee\u001b[0m\u001b[0;34m.\u001b[0m\u001b[0mFeatureCollection\u001b[0m\u001b[0;34m(\u001b[0m\u001b[0mcollection\u001b[0m\u001b[0;34m.\u001b[0m\u001b[0mmap\u001b[0m\u001b[0;34m(\u001b[0m\u001b[0mreduce_salt\u001b[0m\u001b[0;34m)\u001b[0m\u001b[0;34m)\u001b[0m\u001b[0;34m\u001b[0m\u001b[0;34m\u001b[0m\u001b[0m\n\u001b[1;32m      7\u001b[0m \u001b[0;34m\u001b[0m\u001b[0m\n\u001b[0;32m----> 8\u001b[0;31m \u001b[0mfunc\u001b[0m\u001b[0;34m=\u001b[0m\u001b[0mfc_to_dict\u001b[0m\u001b[0;34m(\u001b[0m\u001b[0mfc\u001b[0m\u001b[0;34m)\u001b[0m\u001b[0;34m.\u001b[0m\u001b[0mgetInfo\u001b[0m\u001b[0;34m(\u001b[0m\u001b[0;34m)\u001b[0m\u001b[0;34m\u001b[0m\u001b[0;34m\u001b[0m\u001b[0m\n\u001b[0m\u001b[1;32m      9\u001b[0m \u001b[0;34m\u001b[0m\u001b[0m\n\u001b[1;32m     10\u001b[0m \u001b[0;31m# print(type(fc), '\\n')\u001b[0m\u001b[0;34m\u001b[0m\u001b[0;34m\u001b[0m\u001b[0;34m\u001b[0m\u001b[0m\n",
      "\u001b[0;32m~/miniconda3/envs/wildfire-lake-productivity/lib/python3.7/site-packages/ee/computedobject.py\u001b[0m in \u001b[0;36mgetInfo\u001b[0;34m(self)\u001b[0m\n\u001b[1;32m     96\u001b[0m       \u001b[0mThe\u001b[0m \u001b[0mobject\u001b[0m \u001b[0mcan\u001b[0m \u001b[0mevaluate\u001b[0m \u001b[0mto\u001b[0m \u001b[0manything\u001b[0m\u001b[0;34m.\u001b[0m\u001b[0;34m\u001b[0m\u001b[0;34m\u001b[0m\u001b[0m\n\u001b[1;32m     97\u001b[0m     \"\"\"\n\u001b[0;32m---> 98\u001b[0;31m     \u001b[0;32mreturn\u001b[0m \u001b[0mdata\u001b[0m\u001b[0;34m.\u001b[0m\u001b[0mcomputeValue\u001b[0m\u001b[0;34m(\u001b[0m\u001b[0mself\u001b[0m\u001b[0;34m)\u001b[0m\u001b[0;34m\u001b[0m\u001b[0;34m\u001b[0m\u001b[0m\n\u001b[0m\u001b[1;32m     99\u001b[0m \u001b[0;34m\u001b[0m\u001b[0m\n\u001b[1;32m    100\u001b[0m   \u001b[0;32mdef\u001b[0m \u001b[0mencode\u001b[0m\u001b[0;34m(\u001b[0m\u001b[0mself\u001b[0m\u001b[0;34m,\u001b[0m \u001b[0mencoder\u001b[0m\u001b[0;34m)\u001b[0m\u001b[0;34m:\u001b[0m\u001b[0;34m\u001b[0m\u001b[0;34m\u001b[0m\u001b[0m\n",
      "\u001b[0;32m~/miniconda3/envs/wildfire-lake-productivity/lib/python3.7/site-packages/ee/data.py\u001b[0m in \u001b[0;36mcomputeValue\u001b[0;34m(obj)\u001b[0m\n\u001b[1;32m    676\u001b[0m           \u001b[0mbody\u001b[0m\u001b[0;34m=\u001b[0m\u001b[0;34m{\u001b[0m\u001b[0;34m'expression'\u001b[0m\u001b[0;34m:\u001b[0m \u001b[0mserializer\u001b[0m\u001b[0;34m.\u001b[0m\u001b[0mencode\u001b[0m\u001b[0;34m(\u001b[0m\u001b[0mobj\u001b[0m\u001b[0;34m,\u001b[0m \u001b[0mfor_cloud_api\u001b[0m\u001b[0;34m=\u001b[0m\u001b[0;32mTrue\u001b[0m\u001b[0;34m)\u001b[0m\u001b[0;34m}\u001b[0m\u001b[0;34m,\u001b[0m\u001b[0;34m\u001b[0m\u001b[0;34m\u001b[0m\u001b[0m\n\u001b[1;32m    677\u001b[0m           \u001b[0mproject\u001b[0m\u001b[0;34m=\u001b[0m\u001b[0m_get_projects_path\u001b[0m\u001b[0;34m(\u001b[0m\u001b[0;34m)\u001b[0m\u001b[0;34m,\u001b[0m\u001b[0;34m\u001b[0m\u001b[0;34m\u001b[0m\u001b[0m\n\u001b[0;32m--> 678\u001b[0;31m           prettyPrint=False))['result']\n\u001b[0m\u001b[1;32m    679\u001b[0m \u001b[0;34m\u001b[0m\u001b[0m\n\u001b[1;32m    680\u001b[0m \u001b[0;34m\u001b[0m\u001b[0m\n",
      "\u001b[0;32m~/miniconda3/envs/wildfire-lake-productivity/lib/python3.7/site-packages/ee/data.py\u001b[0m in \u001b[0;36m_execute_cloud_call\u001b[0;34m(call, num_retries)\u001b[0m\n\u001b[1;32m    334\u001b[0m     \u001b[0;32mreturn\u001b[0m \u001b[0mcall\u001b[0m\u001b[0;34m.\u001b[0m\u001b[0mexecute\u001b[0m\u001b[0;34m(\u001b[0m\u001b[0mnum_retries\u001b[0m\u001b[0;34m=\u001b[0m\u001b[0mnum_retries\u001b[0m\u001b[0;34m)\u001b[0m\u001b[0;34m\u001b[0m\u001b[0;34m\u001b[0m\u001b[0m\n\u001b[1;32m    335\u001b[0m   \u001b[0;32mexcept\u001b[0m \u001b[0mgoogleapiclient\u001b[0m\u001b[0;34m.\u001b[0m\u001b[0merrors\u001b[0m\u001b[0;34m.\u001b[0m\u001b[0mHttpError\u001b[0m \u001b[0;32mas\u001b[0m \u001b[0me\u001b[0m\u001b[0;34m:\u001b[0m\u001b[0;34m\u001b[0m\u001b[0;34m\u001b[0m\u001b[0m\n\u001b[0;32m--> 336\u001b[0;31m     \u001b[0;32mraise\u001b[0m \u001b[0m_translate_cloud_exception\u001b[0m\u001b[0;34m(\u001b[0m\u001b[0me\u001b[0m\u001b[0;34m)\u001b[0m\u001b[0;34m\u001b[0m\u001b[0;34m\u001b[0m\u001b[0m\n\u001b[0m\u001b[1;32m    337\u001b[0m \u001b[0;34m\u001b[0m\u001b[0m\n\u001b[1;32m    338\u001b[0m \u001b[0;34m\u001b[0m\u001b[0m\n",
      "\u001b[0;31mEEException\u001b[0m: Collection.first: Error in map(ID=LC08_032034_20150504):\nFeature, argument 'metadata': Invalid type.\nExpected type: Dictionary<Object>.\nActual type: FeatureCollection."
     ]
    }
   ],
   "source": [
    "# def getmeans(image):\n",
    "#      return ee.Feature(image.reduceRegions(collection=land_ctchmts_ee, reducer=ee.Reducer.mean(), scale=30))\n",
    "\n",
    "\n",
    "# # Map the function over the ImageCollection.\n",
    "fc = ee.FeatureCollection(collection.map(reduce_salt))\n",
    "\n",
    "func=fc_to_dict(fc).getInfo()\n",
    "\n",
    "# print(type(fc), '\\n')\n",
    "# for prop in featureCollection.keys():\n",
    "#     print(prop + ':', featureCollection[prop][0:3] + ['...'])\n"
   ]
  },
  {
   "cell_type": "code",
   "execution_count": null,
   "id": "c28e844c",
   "metadata": {},
   "outputs": [],
   "source": [
    "# print out the number of images in the ImageCollection\n",
    "count = collection.size().getInfo()\n",
    "print(\"Count: \", count)"
   ]
  },
  {
   "cell_type": "code",
   "execution_count": null,
   "id": "c16730af",
   "metadata": {},
   "outputs": [],
   "source": [
    "pdsi_dict = fc_to_dict(pdsi_stat_fc).getInfo()"
   ]
  },
  {
   "cell_type": "code",
   "execution_count": 176,
   "id": "8f42419c",
   "metadata": {},
   "outputs": [
    {
     "name": "stdout",
     "output_type": "stream",
     "text": [
      "<class 'dict'> \n",
      "\n",
      "millis: [1430760664760, 1445967120780, 1462555890660, '...']\n",
      "system:index: ['LC08_032034_20150504', 'LC08_032034_20151027', 'LC08_032034_20160506', '...']\n"
     ]
    }
   ],
   "source": [
    "print(type(pdsi_dict), '\\n')\n",
    "for prop in pdsi_dict.keys():\n",
    "    print(prop + ':', pdsi_dict[prop][0:3] + ['...'])"
   ]
  },
  {
   "cell_type": "code",
   "execution_count": 83,
   "id": "25c024d8",
   "metadata": {},
   "outputs": [
    {
     "name": "stderr",
     "output_type": "stream",
     "text": [
      "IOPub data rate exceeded.\n",
      "The notebook server will temporarily stop sending output\n",
      "to the client in order to avoid crashing it.\n",
      "To change this limit, set the config variable\n",
      "`--NotebookApp.iopub_data_rate_limit`.\n",
      "\n",
      "Current values:\n",
      "NotebookApp.iopub_data_rate_limit=1000000.0 (bytes/sec)\n",
      "NotebookApp.rate_limit_window=3.0 (secs)\n",
      "\n"
     ]
    }
   ],
   "source": [
    "# select three Landsat 8 imagery in the Southwest area with the least cloud coverage\n",
    "# collection = ee.ImageCollection('LANDSAT/LC08/C01/T1_SR') \\\n",
    "#     .filterDate('2017-03-01', '2017-04-30')\\\n",
    "#     .select(['B4', 'B5', 'B6', 'B7', 'pixel_qa'])\\\n",
    "#     .filterBounds(land_ctchmts_ee)\n",
    "\n",
    "collection = ee.ImageCollection('LANDSAT/LC08/C01/T1_SR')\\\n",
    "          .select(['B4', 'B5', 'B6', 'B7', 'pixel_qa'])\\\n",
    "          .filter(ee.Filter.inList('LANDSAT_ID',ee.List(id_list)))\n",
    "          .map(add_nbr)\n",
    "          .map(add_ndvi)\n",
    "\n",
    "# # calculate NDVI for each image using the map fucntion\n",
    "# #vi_images = collection.map(addTime)\n",
    "# vi_images = collection.map(cfmask)\n",
    "\n",
    "# # calculate VI for each image using the map fucntion\n",
    "# vi_images = vi_images.map(add_ndvi)\n",
    "# vi_images = vi_images.map(add_nbr)\n",
    "# #vi_images = vi_images.map(set_year)\n",
    "\n",
    "\n",
    "# def eeAlgo(image):\n",
    "#     reduced = image.reduceRegions(collection=land_ctchmts_ee, reducer=ee.Reducer.mean(), crs='EPSG:4326', scale=30)\n",
    "#     image = image.set('value', reduced)\n",
    "#     return image\n",
    "\n",
    "\n",
    "def getmeans(image):\n",
    "    return ee.Feature(image.reduceRegions(collection=land_ctchmts_ee, reducer=ee.Reducer.mean(), scale=30))\n",
    "\n",
    "# Map the function over the ImageCollection.\n",
    "featureCollection = ee.FeatureCollection(collection.map(getmeans))\n",
    "\n",
    "\n",
    "\n",
    "#vi_median = vi_images.median()\n",
    "\n",
    "\n",
    "#ls8_reduced_mean = ee.FeatureCollection(img.reduceRegions(reducer=ee.Reducer.mean(),\n",
    "#                                        collection=land_ctchmts_ee,\n",
    "#                                        scale=30))\n",
    "\n",
    "\n",
    "# def nestedMappedReducer(featCol, imgCol):\n",
    "#     def mapReducerOverImgCol(feat):\n",
    "#         def imgReducer(img):\n",
    "#             return img.reduceRegions(\n",
    "#                 collection = ee.FeatureCollection(feat),\n",
    "#                 reducer = ee.Reducer.first(),\n",
    "#                 scale = 30\n",
    "#             )\n",
    "\n",
    "#         return imgCol.map(imgReducer).flatten()\n",
    "\n",
    "#     return featCol.map(mapReducerOverImgCol).flatten()\n",
    "\n",
    "\n",
    "# tblmaybe = nestedMappedReducer(land_ctchmts_ee,vi_images)\n",
    "\n",
    "\n",
    "\n",
    "# def reduce_imgs(img):\n",
    "#     reducedimg = img.reduceRegions(**{\n",
    "#       'collection': land_ctchmts_ee,\n",
    "#       'reducer': ee.Reducer.mean(),\n",
    "#       'scale': 30\n",
    "# })\n",
    "#     return reducedimg\n",
    "\n",
    "# reduced_vis = vi_images.map(reduce_imgs).flatten()"
   ]
  },
  {
   "cell_type": "code",
   "execution_count": 96,
   "id": "8d500c41",
   "metadata": {},
   "outputs": [
    {
     "data": {
      "text/plain": [
       "<ee.featurecollection.FeatureCollection at 0x7fb230537ad0>"
      ]
     },
     "execution_count": 96,
     "metadata": {},
     "output_type": "execute_result"
    }
   ],
   "source": [
    "pdsi_stat_fc"
   ]
  },
  {
   "cell_type": "code",
   "execution_count": 203,
   "id": "0f810d3d",
   "metadata": {},
   "outputs": [],
   "source": [
    "task = ee.batch.Export.table.toDrive(**{\n",
    "    'collection': fc,\n",
    "    'description': 'vi_mock_export',\n",
    "    'folder':'new_example_folder',\n",
    "    'fileFormat': 'CSV'\n",
    "})\n",
    "\n",
    "task.start()"
   ]
  },
  {
   "cell_type": "code",
   "execution_count": 204,
   "id": "943c41ab",
   "metadata": {},
   "outputs": [
    {
     "name": "stdout",
     "output_type": "stream",
     "text": [
      "Polling for task (id: OP762YRMFFAIBTWALBWUR5WA).\n",
      "Polling for task (id: OP762YRMFFAIBTWALBWUR5WA).\n"
     ]
    }
   ],
   "source": [
    "while task.active():\n",
    "    print('Polling for task (id: {}).'.format(task.id))\n",
    "    time.sleep(15)"
   ]
  },
  {
   "cell_type": "code",
   "execution_count": 141,
   "id": "d1fa6150",
   "metadata": {},
   "outputs": [],
   "source": [
    "taskParams = {\n",
    "    'driveFolder': 'image',\n",
    "    'fileFormat': 'CSV'   # CSV, KMZ, GeoJSON\n",
    "}\n",
    "\n",
    "# export all features in a FeatureCollection as one file\n",
    "task = ee.batch.Export.table(pdsi_stat_fc, 'export_fc', taskParams)\n",
    "task.start()"
   ]
  },
  {
   "cell_type": "code",
   "execution_count": 183,
   "id": "811f64ca",
   "metadata": {},
   "outputs": [
    {
     "data": {
      "application/vnd.jupyter.widget-view+json": {
       "model_id": "987fb88db7254d28b5904d0c93b0bf99",
       "version_major": 2,
       "version_minor": 0
      },
      "text/plain": [
       "Map(center=[37, -106], controls=(WidgetControl(options=['position', 'transparent_bg'], widget=HBox(children=(T…"
      ]
     },
     "metadata": {},
     "output_type": "display_data"
    }
   ],
   "source": [
    "Map = emap.Map(center=[37,-106], zoom=6)\n",
    "Map.add_basemap('ROADMAP') # Add Google Map\n",
    "Map\n",
    "\n",
    "\n",
    "vizParams = {\n",
    "     'bands': ['NDVI'],\n",
    "     'min': 0, \n",
    "     'max': 1\n",
    " }\n",
    "\n",
    "#Map.centerObject(land_ctchmts_ee, 8)\n",
    "\n",
    "Map.addLayer(collection,vizParams,'basic_images')\n",
    "\n",
    "#Map.addLayer(vi_images,{},'vi_trend')\n",
    "\n",
    "#Map.addLayer(vi_median, vizParams, 'Landsat image ')\n",
    "\n",
    "#Map.addLayer(land_ctchmts_ee, {}, 'burnedlakes')\n",
    "    \n",
    "Map.addLayerControl()\n",
    "Map"
   ]
  },
  {
   "cell_type": "code",
   "execution_count": null,
   "id": "50f956d7",
   "metadata": {},
   "outputs": [],
   "source": [
    "\n",
    "    \n",
    "r = requests.get('https://drive.google.com/drive/u/0/folders/1gBj3y6etTKwX3Dm6JT3znLj7OmxXsBCV&output=csv')\n",
    "data = r.content\n",
    "    \n",
    "df = pd.read_csv(BytesIO(data), index_col=0,parse_dates=['system:time_start'])\n"
   ]
  },
  {
   "cell_type": "code",
   "execution_count": null,
   "id": "0348562f",
   "metadata": {},
   "outputs": [],
   "source": []
  },
  {
   "cell_type": "code",
   "execution_count": 148,
   "id": "168fdce4",
   "metadata": {},
   "outputs": [],
   "source": [
    "# Define a function to calculate NBR.\n",
    "def add_nbr(img):\n",
    "    \"\"\"calculates the normalized burn ratio (nbr) using imported Landsat 8 bands\n",
    "    Parameters\n",
    "    -----------\n",
    "    image: Landsat image(s) imported from earth engine\n",
    "    Returns\n",
    "    -----------\n",
    "    band : image with added nbr band\n",
    "    \"\"\"\n",
    "    nbr = img.normalizedDifference(\n",
    "        ['B5', 'B7']).select([0], ['NBR'])\n",
    "    return img.addBands(nbr)\n",
    "\n",
    "# Define a function to calculate NDVI.\n",
    "def add_ndvi(img):\n",
    "    \"\"\"calculates the normalized difference vegetation index (ndvi) using imported Landsat bands\n",
    "    Parameters\n",
    "    -----------\n",
    "    image: Landsat image(s) imported from earth engine\n",
    "    Returns\n",
    "    -----------\n",
    "    band : image with added ndvi band\n",
    "    \"\"\"\n",
    "    ndvi = img.normalizedDifference(\n",
    "        ['B5', 'B4']).select([0], ['NDVI'])\n",
    "    return img.addBands(ndvi)"
   ]
  },
  {
   "cell_type": "code",
   "execution_count": 4,
   "id": "f01cbcde",
   "metadata": {},
   "outputs": [],
   "source": [
    "# This function adds a band representing the image timestamp.\n",
    "def addTime(image):\n",
    "    \"\"\"selects image date from image metadata and adds to image as a band\n",
    "    Parameters\n",
    "    -----------\n",
    "    image: Landsat image(s) imported from earth engine\n",
    "    Returns\n",
    "    -----------\n",
    "    band : image with added time band\n",
    "    \"\"\"\n",
    "    return image.addBands(image.metadata('LANDSAT_ID'))\n",
    "\n",
    "# Define a function to add year as an image property.\n",
    "\n",
    "\n",
    "def set_year(img):\n",
    "    \"\"\"selects image year from image metadata and adds to image as a band\n",
    "    Parameters\n",
    "    -----------\n",
    "    image: Landsat image(s) imported from earth engine\n",
    "    Returns\n",
    "    -----------\n",
    "    band : image with added year band\n",
    "    \"\"\"\n",
    "    year = ee.Image(img).date().get('year')\n",
    "    return img.addBands(year)"
   ]
  },
  {
   "cell_type": "code",
   "execution_count": 5,
   "id": "2f970920",
   "metadata": {},
   "outputs": [],
   "source": [
    "# Define a function to mask out clouds and cloud shadows.\n",
    "def cfmask(img):\n",
    "    \"\"\"masks clouds and cloud shadows based on values in Landsat's pixel_qa band \n",
    "    Parameters\n",
    "    -----------\n",
    "    image: Landsat image(s) imported from earth engine\n",
    "    Returns\n",
    "    -----------\n",
    "    band : image with clouds masked\n",
    "    \"\"\"\n",
    "    cloud_shadow_bi_mask = 1 << 3\n",
    "    cloud_bit_mask = 1 << 5\n",
    "    qa = img.select('pixel_qa')\n",
    "    mask = qa.bitwiseAnd(cloud_shadow_bi_mask).eq(0).And(\n",
    "        qa.bitwiseAnd(cloud_bit_mask).eq(0))\n",
    "    return img.updateMask(mask)"
   ]
  },
  {
   "cell_type": "code",
   "execution_count": 113,
   "id": "bfae31fc",
   "metadata": {},
   "outputs": [],
   "source": [
    "def create_reduce_regions_function(collection,\n",
    "                                  reducer=ee.Reducer.mean(),\n",
    "                                  scale=30,\n",
    "                                  crs='EPSG:4326'):\n",
    "  \"\"\"Creates a regions reduction function.\n",
    "\n",
    "  Creates a region reduction function intended to be used as the input function\n",
    "  to ee.ImageCollection.map() for reducing pixels intersecting a provided region\n",
    "  to a statistic for each image in a collection. See ee.Image.reduceRegions()\n",
    "  documentation for more details.\n",
    "\n",
    "  Args:\n",
    "    geometry:\n",
    "      An ee.Geometry that defines the region over which to reduce data.\n",
    "    reducer:\n",
    "      Optional; An ee.Reducer that defines the reduction method.\n",
    "    scale:\n",
    "      Optional; A number that defines the nominal scale in meters of the\n",
    "      projection to work in.\n",
    "    crs:\n",
    "      Optional; An ee.Projection or EPSG string ('EPSG:5070') that defines\n",
    "      the projection to work in.\n",
    "    bestEffort:\n",
    "      Optional; A Boolean indicator for whether to use a larger scale if the\n",
    "      geometry contains too many pixels at the given scale for the operation\n",
    "      to succeed.\n",
    "    maxPixels:\n",
    "      Optional; A number specifying the maximum number of pixels to reduce.\n",
    "    tileScale:\n",
    "      Optional; A number representing the scaling factor used to reduce\n",
    "      aggregation tile size; using a larger tileScale (e.g. 2 or 4) may enable\n",
    "      computations that run out of memory with the default.\n",
    "\n",
    "  Returns:\n",
    "    A function that accepts an ee.Image and reduces it by region, according to\n",
    "    the provided arguments.\n",
    "  \"\"\"\n",
    "\n",
    "  def reduce_regions_function(img):\n",
    "    \"\"\"Applies the ee.Image.reduceRegions() method.\n",
    "\n",
    "    Args:\n",
    "      img:\n",
    "        An ee.Image to reduce to a statistic by region.\n",
    "\n",
    "    Returns:\n",
    "      An ee.Feature that contains properties representing the image region\n",
    "      reduction results per band and the image timestamp formatted as\n",
    "      milliseconds from Unix epoch (included to enable time series plotting).\n",
    "    \"\"\"\n",
    "\n",
    "    stat = img.reduceRegions(\n",
    "        collection=collection,\n",
    "        reducer = reducer\n",
    "        scale=scale,\n",
    "        crs=crs)\n",
    "\n",
    "    return ee.Feature(collection, stat).set({'millis': img.date().millis()})\n",
    "  return reduce_regions_function"
   ]
  },
  {
   "cell_type": "code",
   "execution_count": 115,
   "id": "94d75406",
   "metadata": {},
   "outputs": [],
   "source": [
    "# Define a function to transfer feature properties to a dictionary.\n",
    "def fc_to_dict(fc):\n",
    "    \"\"\"Extracts the values from a FeatureCollection and stores them as a list in ee.Dictionary. ee.Dictionary\n",
    "    can be converted to a pandasDataframe if needed. \n",
    "    \n",
    "    Args:\n",
    "    ee.featureCollection:\n",
    "      An ee.featureCollection contains images and properties that can be converted \n",
    "      to a dictionary with geometries. \n",
    "      \n",
    "    Returns:\n",
    "    A ee.Dictionary (useful for converting to Pandas objects)\n",
    "    \"\"\"\n",
    "    prop_names = fc.first().propertyNames()\n",
    "    prop_lists = fc.reduceColumns(\n",
    "      reducer=ee.Reducer.toList().repeat(prop_names.size()),\n",
    "      selectors=prop_names).get('list')\n",
    "\n",
    "    return ee.Dictionary.fromLists(prop_names, prop_lists)"
   ]
  }
 ],
 "metadata": {
  "hide_input": false,
  "kernelspec": {
   "display_name": "Python 3",
   "language": "python",
   "name": "python3"
  },
  "language_info": {
   "codemirror_mode": {
    "name": "ipython",
    "version": 3
   },
   "file_extension": ".py",
   "mimetype": "text/x-python",
   "name": "python",
   "nbconvert_exporter": "python",
   "pygments_lexer": "ipython3",
   "version": "3.7.10"
  },
  "toc": {
   "base_numbering": 1,
   "nav_menu": {},
   "number_sections": false,
   "sideBar": true,
   "skip_h1_title": false,
   "title_cell": "Table of Contents",
   "title_sidebar": "Contents",
   "toc_cell": false,
   "toc_position": {
    "height": "calc(100% - 180px)",
    "left": "10px",
    "top": "150px",
    "width": "322.5735168457031px"
   },
   "toc_section_display": true,
   "toc_window_display": true
  }
 },
 "nbformat": 4,
 "nbformat_minor": 5
}
