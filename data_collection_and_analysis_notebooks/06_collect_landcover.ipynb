{
 "cells": [
  {
   "cell_type": "markdown",
   "id": "84752088",
   "metadata": {},
   "source": [
    "Objectives:\n",
    "   1. Open catchments dataframe (polygons over which landscape data will be collected)\n",
    "   2. Collect catchment statistics from Earth Engine datasets\n",
    "   3. Export to a table that can be used in RandomForest"
   ]
  },
  {
   "cell_type": "markdown",
   "id": "95e5eaa6",
   "metadata": {},
   "source": [
    "## 1. Import packages / set working directory"
   ]
  },
  {
   "cell_type": "code",
   "execution_count": 1,
   "id": "fce0ff1e",
   "metadata": {},
   "outputs": [],
   "source": [
    "import os\n",
    "import io\n",
    "\n",
    "import earthpy as et\n",
    "import numpy as np\n",
    "import matplotlib.pyplot as plt\n",
    "import seaborn as sns\n",
    "import pandas as pd\n",
    "import geopandas as gpd\n",
    "import geemap\n",
    "from shapely.geometry import shape\n",
    "import ee\n",
    "#import elevation\n",
    "import math\n",
    "\n",
    "# Initialize Google Earth Engine to generate area of interest \n",
    "try:\n",
    "    ee.Initialize()\n",
    "except Exception as e:\n",
    "    ee.Authenticate()\n",
    "    ee.Initialize()\n",
    "\n",
    "%matplotlib inline"
   ]
  },
  {
   "cell_type": "code",
   "execution_count": 2,
   "id": "ddc21004",
   "metadata": {},
   "outputs": [
    {
     "name": "stdout",
     "output_type": "stream",
     "text": [
      "path exists\n"
     ]
    }
   ],
   "source": [
    "# Set working directory\n",
    "\n",
    "# if the desired path exists:\n",
    "data_dir = os.path.join(et.io.HOME, 'Dropbox',\n",
    "                        'cu_earthdata_certificate_2021', 'earthlab_project', 'data')\n",
    "if os.path.exists(data_dir):\n",
    "    # set working directory:\n",
    "    os.chdir(data_dir)\n",
    "    print(\"path exists\")\n",
    "else:\n",
    "    print(\"path does not exist, making new path\")\n",
    "    os.makedirs(data_dir)\n",
    "    os.chdir(data_dir)"
   ]
  },
  {
   "cell_type": "markdown",
   "id": "0600803f",
   "metadata": {},
   "source": [
    "## 2. Defining the bounds\n",
    "Let's import the bounds of our Area of Study"
   ]
  },
  {
   "cell_type": "code",
   "execution_count": 3,
   "id": "bf379b8c",
   "metadata": {},
   "outputs": [
    {
     "name": "stdout",
     "output_type": "stream",
     "text": [
      "An error occurred while downloading. \n",
      " Retrying ...\n",
      "Generating URL ...\n",
      "Downloading data from https://earthengine.googleapis.com/v1alpha/projects/earthengine-legacy/tables/7bdabb9600c21f0b21d04f4b1e71010c-de024b585609b84b12edb4c53d9ba138:getFeatures\n",
      "Please wait ...\n",
      "The crs of your area of interest df is epsg:4326\n"
     ]
    },
    {
     "data": {
      "text/html": [
       "<div>\n",
       "<style scoped>\n",
       "    .dataframe tbody tr th:only-of-type {\n",
       "        vertical-align: middle;\n",
       "    }\n",
       "\n",
       "    .dataframe tbody tr th {\n",
       "        vertical-align: top;\n",
       "    }\n",
       "\n",
       "    .dataframe thead th {\n",
       "        text-align: right;\n",
       "    }\n",
       "</style>\n",
       "<table border=\"1\" class=\"dataframe\">\n",
       "  <thead>\n",
       "    <tr style=\"text-align: right;\">\n",
       "      <th></th>\n",
       "      <th>geometry</th>\n",
       "    </tr>\n",
       "  </thead>\n",
       "  <tbody>\n",
       "    <tr>\n",
       "      <th>0</th>\n",
       "      <td>POLYGON ((-109.05041 31.33222, -103.00203 31.3...</td>\n",
       "    </tr>\n",
       "    <tr>\n",
       "      <th>1</th>\n",
       "      <td>POLYGON ((-114.05288 36.99765, -109.04157 36.9...</td>\n",
       "    </tr>\n",
       "    <tr>\n",
       "      <th>2</th>\n",
       "      <td>POLYGON ((-109.06020 36.99245, -102.04153 36.9...</td>\n",
       "    </tr>\n",
       "    <tr>\n",
       "      <th>3</th>\n",
       "      <td>POLYGON ((-111.05454 40.99478, -104.05226 40.9...</td>\n",
       "    </tr>\n",
       "    <tr>\n",
       "      <th>4</th>\n",
       "      <td>POLYGON ((-114.81657 31.33217, -109.04516 31.3...</td>\n",
       "    </tr>\n",
       "  </tbody>\n",
       "</table>\n",
       "</div>"
      ],
      "text/plain": [
       "                                            geometry\n",
       "0  POLYGON ((-109.05041 31.33222, -103.00203 31.3...\n",
       "1  POLYGON ((-114.05288 36.99765, -109.04157 36.9...\n",
       "2  POLYGON ((-109.06020 36.99245, -102.04153 36.9...\n",
       "3  POLYGON ((-111.05454 40.99478, -104.05226 40.9...\n",
       "4  POLYGON ((-114.81657 31.33217, -109.04516 31.3..."
      ]
     },
     "execution_count": 3,
     "metadata": {},
     "output_type": "execute_result"
    }
   ],
   "source": [
    "lis = ['Colorado','Utah', 'Wyoming', 'New Mexico', 'Arizona']\n",
    "states = ee.FeatureCollection(\"TIGER/2018/States\").filter(ee.Filter.inList('NAME', lis))\n",
    "\n",
    "states_gdf = geemap.ee_to_geopandas(states, selectors = ['NAME'])\n",
    "print(\"The crs of your area of interest df is\", states_gdf.crs)\n",
    "states_gdf.head()\n",
    "\n",
    "bounding_box = states_gdf.envelope\n",
    "states_bb = gpd.GeoDataFrame(gpd.GeoSeries(bounding_box), columns=['geometry'])\n",
    "states_bb"
   ]
  },
  {
   "cell_type": "code",
   "execution_count": 4,
   "id": "1c8c17ec",
   "metadata": {},
   "outputs": [
    {
     "data": {
      "application/vnd.jupyter.widget-view+json": {
       "model_id": "666fee3c14794dff9466d0c4acd72774",
       "version_major": 2,
       "version_minor": 0
      },
      "text/plain": [
       "Map(center=[40, -100], controls=(WidgetControl(options=['position', 'transparent_bg'], widget=HBox(children=(T…"
      ]
     },
     "metadata": {},
     "output_type": "display_data"
    }
   ],
   "source": [
    "Map = geemap.Map()\n",
    "Map"
   ]
  },
  {
   "cell_type": "code",
   "execution_count": 5,
   "id": "865263fa",
   "metadata": {},
   "outputs": [],
   "source": [
    "# Import file containing full catchment for each burned lake\n",
    "# from local drive generated in 01_download_clip_merge.ipynb\n",
    "file_path = os.path.join('land_only_whole_ctchmt_aqst.shp')\n",
    "\n",
    "# Geodataframe used in folium map\n",
    "land_catchmts = gpd.read_file(file_path)\n",
    "\n",
    "# EE object used for Earth Engine collections and calculations\n",
    "#small_gdf = land_catchmts[[\"Hylak_id\", \"geometry\"]]\n",
    "land_ctchmts_ee = geemap.geopandas_to_ee(land_catchmts)"
   ]
  },
  {
   "cell_type": "markdown",
   "id": "bebbd4fa",
   "metadata": {},
   "source": [
    "## 3. Import Earth Engine images/dataset"
   ]
  },
  {
   "cell_type": "code",
   "execution_count": 6,
   "id": "ab3cd887",
   "metadata": {},
   "outputs": [],
   "source": [
    "landcover = ee.Image(\"USGS/NLCD/NLCD2016\").select('landcover')\n",
    "\n",
    "landcover_roi = landcover.clip(land_ctchmts_ee);\n",
    "\n",
    "Map.addLayer(landcover, {}, 'NLCD 2016')"
   ]
  },
  {
   "cell_type": "code",
   "execution_count": 7,
   "id": "57f0bd6a",
   "metadata": {},
   "outputs": [
    {
     "name": "stdout",
     "output_type": "stream",
     "text": [
      "[11, 12, 21, 22, 23, 24, 31, 41, 42, 43, 51, 52, 71, 72, 73, 74, 81, 82, 90, 95]\n",
      "['476ba1', 'd1defa', 'decaca', 'd99482', 'ee0000', 'ab0000', 'b3aea3', '68ab63', '1c6330', 'b5ca8f', 'a68c30', 'ccba7d', 'e3e3c2', 'caca78', '99c247', '78ae94', 'dcd93d', 'ab7028', 'bad9eb', '70a3ba']\n"
     ]
    },
    {
     "data": {
      "application/vnd.jupyter.widget-view+json": {
       "model_id": "666fee3c14794dff9466d0c4acd72774",
       "version_major": 2,
       "version_minor": 0
      },
      "text/plain": [
       "Map(center=[40, -100], controls=(WidgetControl(options=['position', 'transparent_bg'], widget=HBox(children=(T…"
      ]
     },
     "metadata": {},
     "output_type": "display_data"
    }
   ],
   "source": [
    "raw_class_values = landcover_roi.get('landcover_class_values').getInfo()\n",
    "print(raw_class_values)\n",
    "\n",
    "n_classes = len(raw_class_values)\n",
    "new_class_values = list(range(0, n_classes))\n",
    "\n",
    "class_palette = landcover_roi.get('landcover_class_palette').getInfo()\n",
    "print(class_palette)\n",
    "\n",
    "nlcd = landcover_roi.remap(raw_class_values, new_class_values).select(['remapped'], ['landcover'])\n",
    "nlcd = nlcd.set('landcover_class_values', new_class_values)\n",
    "nlcd = nlcd.set('landcover_class_palette', class_palette)\n",
    "\n",
    "Map.addLayer(nlcd, {}, 'NLCD')\n",
    "Map\n"
   ]
  },
  {
   "cell_type": "code",
   "execution_count": 8,
   "id": "ae2436e1",
   "metadata": {},
   "outputs": [],
   "source": [
    "nlcd = nlcd.addBands(landcover)"
   ]
  },
  {
   "cell_type": "markdown",
   "id": "747de87e",
   "metadata": {},
   "source": [
    "## 4. Collect statistics for each catchment polygon"
   ]
  },
  {
   "cell_type": "code",
   "execution_count": 10,
   "id": "65302a69",
   "metadata": {},
   "outputs": [],
   "source": [
    "reduced_fc = nlcd.reduceRegions(\n",
    "    reducer=ee.Reducer.mean(),\n",
    "    collection=land_ctchmts_ee,\n",
    "    scale=30)"
   ]
  },
  {
   "cell_type": "code",
   "execution_count": 11,
   "id": "8c81113a",
   "metadata": {},
   "outputs": [
    {
     "name": "stdout",
     "output_type": "stream",
     "text": [
      "Computing ... \n",
      "Generating URL ...\n",
      "Downloading data from https://earthengine.googleapis.com/v1alpha/projects/earthengine-legacy/tables/13f13e93a45500fc50438e9720bbae84-45c3e1fcf7927a4ef13c49644abdf6d2:getFeatures\n",
      "Please wait ...\n",
      "Data downloaded to /Users/laurenkremer/Dropbox/cu_earthdata_certificate_2021/earthlab_project/data/data/nlcd_stats.csv\n"
     ]
    }
   ],
   "source": [
    "nlcd_stats = os.path.join('nlcd_stats.csv')  \n",
    "\n",
    "    \n",
    "# statistics_type can be either 'SUM' or 'PERCENTAGE'\n",
    "# denominator can be used to convert square meters to other areal units, such as square kilimeters\n",
    "geemap.zonal_statistics_by_group(landcover, land_ctchmts_ee, nlcd_stats, statistics_type='PERCENTAGE', denominator=1000000, decimal_places=2)\n"
   ]
  },
  {
   "cell_type": "code",
   "execution_count": 12,
   "id": "48707aba",
   "metadata": {},
   "outputs": [],
   "source": [
    "# Import file containing full catchment for each burned lake\n",
    "# from local drive generated in 01_download_clip_merge.ipynb\n",
    "file_path = os.path.join('nlcd_stats.csv')\n",
    "\n",
    "# Geodataframe used in folium map\n",
    "landcover_stats = pd.read_csv(file_path)"
   ]
  },
  {
   "cell_type": "code",
   "execution_count": 13,
   "id": "6683a576",
   "metadata": {},
   "outputs": [
    {
     "data": {
      "text/plain": [
       "Class_71        float64\n",
       "Class_82        float64\n",
       "Class_52        float64\n",
       "Class_31        float64\n",
       "Class_42        float64\n",
       "Class_21        float64\n",
       "Class_11        float64\n",
       "Class_sum       float64\n",
       "Class_90        float64\n",
       "system:index      int64\n",
       "date             object\n",
       "qa_sd           float64\n",
       "TZID             object\n",
       "nir_sd          float64\n",
       "swir1           float64\n",
       "swir2           float64\n",
       "clouds          float64\n",
       "source           object\n",
       "type             object\n",
       "qa                int64\n",
       "red             float64\n",
       "path              int64\n",
       "nir             float64\n",
       "blue_sd         float64\n",
       "date_unity       object\n",
       "system_ind        int64\n",
       "id               object\n",
       "landsat_id       object\n",
       "row               int64\n",
       "swir1_sd        float64\n",
       "SiteID           object\n",
       "green           float64\n",
       "sat               int64\n",
       "timediff        float64\n",
       "endtime          object\n",
       "chl_a           float64\n",
       "pixelCount        int64\n",
       "Hylak_id          int64\n",
       "date_utc         object\n",
       "swir2_sd        float64\n",
       "blue            float64\n",
       "date_only         int64\n",
       "green_sd        float64\n",
       "red_sd          float64\n",
       "time             object\n",
       "pwater          float64\n",
       "dtype: object"
      ]
     },
     "execution_count": 13,
     "metadata": {},
     "output_type": "execute_result"
    }
   ],
   "source": [
    "landcover_stats.dtypes\n",
    "#df_image_red = df_image_red.astype({'landcover': 'object'}).dtypes"
   ]
  },
  {
   "cell_type": "code",
   "execution_count": 14,
   "id": "47f277c4",
   "metadata": {},
   "outputs": [],
   "source": [
    "landcover_stats = landcover_stats.rename(columns={\"Class_71\": \"Grassland/Herbaceous\",\n",
    "          \"Class_82\": \"Cultivated_Crops\", \"Class_52\": \"Shrub/Scrub\", \"Class_31\": \"BarrenLand_Rock/Sand/Clay\", \"Class_42\": \"Evergreen Forest\", \"Class_21\": \"Developed_OpenSpace\", \"Class_11\": \"Open_water\", \"Class_90\": \"Woody_Wetlands\"}, errors=\"raise\")"
   ]
  },
  {
   "cell_type": "code",
   "execution_count": 15,
   "id": "20b65cd0",
   "metadata": {},
   "outputs": [
    {
     "name": "stdout",
     "output_type": "stream",
     "text": [
      "<class 'pandas.core.frame.DataFrame'>\n",
      "RangeIndex: 547 entries, 0 to 546\n",
      "Data columns (total 46 columns):\n",
      " #   Column                     Non-Null Count  Dtype  \n",
      "---  ------                     --------------  -----  \n",
      " 0   Grassland/Herbaceous       547 non-null    float64\n",
      " 1   Cultivated_Crops           547 non-null    float64\n",
      " 2   Shrub/Scrub                547 non-null    float64\n",
      " 3   BarrenLand_Rock/Sand/Clay  547 non-null    float64\n",
      " 4   Evergreen Forest           547 non-null    float64\n",
      " 5   Developed_OpenSpace        547 non-null    float64\n",
      " 6   Open_water                 547 non-null    float64\n",
      " 7   Class_sum                  547 non-null    float64\n",
      " 8   Woody_Wetlands             547 non-null    float64\n",
      " 9   system:index               547 non-null    int64  \n",
      " 10  date                       547 non-null    object \n",
      " 11  qa_sd                      543 non-null    float64\n",
      " 12  TZID                       547 non-null    object \n",
      " 13  nir_sd                     543 non-null    float64\n",
      " 14  swir1                      547 non-null    float64\n",
      " 15  swir2                      547 non-null    float64\n",
      " 16  clouds                     547 non-null    float64\n",
      " 17  source                     547 non-null    object \n",
      " 18  type                       547 non-null    object \n",
      " 19  qa                         547 non-null    int64  \n",
      " 20  red                        547 non-null    float64\n",
      " 21  path                       547 non-null    int64  \n",
      " 22  nir                        547 non-null    float64\n",
      " 23  blue_sd                    543 non-null    float64\n",
      " 24  date_unity                 547 non-null    object \n",
      " 25  system_ind                 547 non-null    int64  \n",
      " 26  id                         547 non-null    object \n",
      " 27  landsat_id                 547 non-null    object \n",
      " 28  row                        547 non-null    int64  \n",
      " 29  swir1_sd                   543 non-null    float64\n",
      " 30  SiteID                     547 non-null    object \n",
      " 31  green                      547 non-null    float64\n",
      " 32  sat                        547 non-null    int64  \n",
      " 33  timediff                   547 non-null    float64\n",
      " 34  endtime                    547 non-null    object \n",
      " 35  chl_a                      88 non-null     float64\n",
      " 36  pixelCount                 547 non-null    int64  \n",
      " 37  Hylak_id                   547 non-null    int64  \n",
      " 38  date_utc                   547 non-null    object \n",
      " 39  swir2_sd                   543 non-null    float64\n",
      " 40  blue                       547 non-null    float64\n",
      " 41  date_only                  547 non-null    int64  \n",
      " 42  green_sd                   543 non-null    float64\n",
      " 43  red_sd                     543 non-null    float64\n",
      " 44  time                       547 non-null    object \n",
      " 45  pwater                     547 non-null    float64\n",
      "dtypes: float64(26), int64(9), object(11)\n",
      "memory usage: 196.7+ KB\n"
     ]
    }
   ],
   "source": [
    "landcover_stats.info()"
   ]
  },
  {
   "cell_type": "code",
   "execution_count": 16,
   "id": "2afc44b5",
   "metadata": {},
   "outputs": [],
   "source": [
    "# Export file to local drive\n",
    "out_path = os.path.join(\"lake_landcover.csv\")\n",
    "landcover_stats.to_csv(out_path)"
   ]
  }
 ],
 "metadata": {
  "hide_input": false,
  "kernelspec": {
   "display_name": "Python 3",
   "language": "python",
   "name": "python3"
  },
  "language_info": {
   "codemirror_mode": {
    "name": "ipython",
    "version": 3
   },
   "file_extension": ".py",
   "mimetype": "text/x-python",
   "name": "python",
   "nbconvert_exporter": "python",
   "pygments_lexer": "ipython3",
   "version": "3.7.10"
  },
  "toc": {
   "base_numbering": 1,
   "nav_menu": {},
   "number_sections": false,
   "sideBar": true,
   "skip_h1_title": false,
   "title_cell": "Table of Contents",
   "title_sidebar": "Contents",
   "toc_cell": false,
   "toc_position": {},
   "toc_section_display": true,
   "toc_window_display": true
  }
 },
 "nbformat": 4,
 "nbformat_minor": 5
}
