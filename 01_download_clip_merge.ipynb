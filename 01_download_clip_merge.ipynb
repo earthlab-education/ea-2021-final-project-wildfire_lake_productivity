{
 "cells": [
  {
   "cell_type": "markdown",
   "metadata": {},
   "source": [
    "## Objectives: \n",
    "\n",
    "    1. Import LimnoSat data from R generated .csv \n",
    "    2. Generate a function that: \n",
    "        a. imports deepest point for each lake in the HydroLAKES dataset \n",
    "        b. crops dataset to Colorado boundary\n",
    "        c. generates a 2km buffer around each deep point (proxy for lake catchment)\n",
    "        d. checks MTBS shapefile for overlap\n",
    "        e. saves points that have buffer region that overlaps with MTBS dataframe to a geopandas df\n",
    "    2. Map data with folium to visualize burned lakes\n",
    "    3. Classify limnoSAT data as \"pre-\" or \"post-fire\"\n",
    "    4. Generate a 'perimeter score' that indicates how much of perimeters are burned and relative severities\n",
    "    \n",
    "\n",
    "Used with earth-analytics environment"
   ]
  },
  {
   "cell_type": "markdown",
   "metadata": {},
   "source": [
    "# 1.  Import packages"
   ]
  },
  {
   "cell_type": "code",
   "execution_count": 1,
   "metadata": {},
   "outputs": [],
   "source": [
    "import earthpy as et\n",
    "import os\n",
    "import io\n",
    "\n",
    "import pandas as pd\n",
    "import geopandas as gpd\n",
    "import numpy as np\n",
    "import requests\n",
    "import ee\n",
    "import zipfile\n",
    "import pyproj\n",
    "from shapely.geometry import Point\n",
    "from shapely.geometry import Polygon\n",
    "from shapely.ops import transform\n",
    "import matplotlib.pyplot as plt\n",
    "from functools import partial"
   ]
  },
  {
   "cell_type": "markdown",
   "metadata": {},
   "source": [
    "# 2. Set Directory"
   ]
  },
  {
   "cell_type": "code",
   "execution_count": 2,
   "metadata": {},
   "outputs": [
    {
     "name": "stdout",
     "output_type": "stream",
     "text": [
      "path exists\n"
     ]
    }
   ],
   "source": [
    "# Set working directory\n",
    "\n",
    "# if the desired path exists:\n",
    "data_dir = os.path.join(et.io.HOME, 'Dropbox',\n",
    "                        'CU Earth DATA Certificate 2021', 'earthlab_project')\n",
    "if os.path.exists(data_dir):\n",
    "    # set working directory:\n",
    "    os.chdir(data_dir)\n",
    "    print(\"path exists\")\n",
    "else:\n",
    "    print(\"path does not exist, making new path\")\n",
    "    os.makedirs(data_dir)\n",
    "    os.chdir(data_dir)"
   ]
  },
  {
   "cell_type": "markdown",
   "metadata": {},
   "source": [
    "# 3. Add Functions"
   ]
  },
  {
   "cell_type": "markdown",
   "metadata": {},
   "source": [
    "Some datasets for this project can be downloaded from urls that provide zipped shapefiles.\n",
    "This function can be used to open these datasets and clip them to desired geographic subset with a shapefile"
   ]
  },
  {
   "cell_type": "code",
   "execution_count": 3,
   "metadata": {},
   "outputs": [],
   "source": [
    "def open_zips(url, shapefile):\n",
    "    \"\"\"opens zipped shapefiles from a url and clips data according to a \n",
    "    region of interest defined by a shapefile before saving as a geopandas dataframe\n",
    "    Parameters\n",
    "    -----------\n",
    "    url : path to a zipped shapefile\n",
    "    shapefile: a shapefile for region of interest\n",
    "\n",
    "    Returns\n",
    "    -----------\n",
    "    gpd : a clipped geopandas geodataframe \n",
    "    \"\"\"\n",
    "    local_path = 'tmp/'\n",
    "    print('Downloading shapefile...')\n",
    "    r = requests.get(url)\n",
    "    z = zipfile.ZipFile(io.BytesIO(r.content))\n",
    "    z.extractall(path=local_path)  # extract to folder\n",
    "    filenames = [y for y in sorted(z.namelist()) for ending in [\n",
    "        'dbf', 'prj', 'shp', 'shx'] if y.endswith(ending)]\n",
    "    print(filenames)\n",
    "    dbf, prj, shp, shx = [filename for filename in filenames]\n",
    "    gpdfile = gpd.clip(gpd.read_file(\n",
    "        local_path + shp).to_crs(colo_shp.crs), colo_shp)\n",
    "    print(\"Done\")\n",
    "    print(\"Shape of the dataframe: {}\".format(gpdfile.shape))\n",
    "    print(\"Projection of dataframe: {}\".format(gpdfile.crs))\n",
    "    return(gpdfile)"
   ]
  },
  {
   "cell_type": "markdown",
   "metadata": {},
   "source": [
    "# 4. Download Data"
   ]
  },
  {
   "cell_type": "markdown",
   "metadata": {},
   "source": [
    "## 4a. Download the Colorado shapefile \n",
    "to use in clipping the MTBS and HydroLAKES dataset"
   ]
  },
  {
   "cell_type": "code",
   "execution_count": 4,
   "metadata": {},
   "outputs": [
    {
     "name": "stdout",
     "output_type": "stream",
     "text": [
      "Projection of dataframe: +init=epsg:32613 +type=crs\n"
     ]
    },
    {
     "name": "stderr",
     "output_type": "stream",
     "text": [
      "/Users/laurenkremer/miniconda3/envs/earth-analytics-python/lib/python3.8/site-packages/pyproj/crs/crs.py:53: FutureWarning: '+init=<authority>:<code>' syntax is deprecated. '<authority>:<code>' is the preferred initialization method. When making the change, be mindful of axis order changes: https://pyproj4.github.io/pyproj/stable/gotchas.html#axis-order-changes-in-proj-6\n",
      "  return _prepare_from_string(\" \".join(pjargs))\n"
     ]
    }
   ],
   "source": [
    "url = 'https://opendata.arcgis.com/datasets/4402a8e032ed49eb8b37fd729e4e8f03_9.geojson'\n",
    "colo_shp = gpd.read_file(url)\n",
    "\n",
    "# Make sure appropriate crs for Colorado distances\n",
    "colo_shp = colo_shp.to_crs({'init': 'EPSG:32613'})\n",
    "print(\"Projection of dataframe: {}\".format(colo_shp.crs))"
   ]
  },
  {
   "cell_type": "markdown",
   "metadata": {},
   "source": [
    "## 4b. Download lake .shps from HydroLAKES\n",
    "Each entry of the HydroLAKES dataset can be matched to the LimnoSat dataset which provides lake median values for selected Landsat bands for all of the CONUS, via the Hylak_id column. HydroLAKES is the source of lake name and data, including lat-long values for each lake \"deep point\" as described by Topp et al. 2020. This dataset can be clipped to a Colorado shapefile, and then matched to LimnoSat so that only values that match both dataframes are saved. The GEE script in the link below also contains the lake pour points."
   ]
  },
  {
   "cell_type": "code",
   "execution_count": 5,
   "metadata": {},
   "outputs": [],
   "source": [
    "# Download HydroLAKES point data for Colorado\n",
    "# https://code.earthengine.google.com/4b49c096f90206995d89b87eb528a386\n",
    "# LimnoSAT deepest points is a Google Earth Engine asset.  This was clipped to\n",
    "# Colorado boundaries using the script in the link above which exports the asset to Google Drive.\n",
    "\n",
    "hydro_dp_path = os.path.join(\"data\", \"hydro_deep_points_co.shp\")\n",
    "hydro_points = gpd.read_file(hydro_dp_path).to_crs(colo_shp.crs)"
   ]
  },
  {
   "cell_type": "code",
   "execution_count": 6,
   "metadata": {},
   "outputs": [
    {
     "name": "stdout",
     "output_type": "stream",
     "text": [
      "<class 'geopandas.geodataframe.GeoDataFrame'>\n",
      "RangeIndex: 665 entries, 0 to 664\n",
      "Data columns (total 4 columns):\n",
      " #   Column    Non-Null Count  Dtype   \n",
      "---  ------    --------------  -----   \n",
      " 0   distance  665 non-null    float64 \n",
      " 1   type      665 non-null    object  \n",
      " 2   Hylak_id  665 non-null    int64   \n",
      " 3   geometry  665 non-null    geometry\n",
      "dtypes: float64(1), geometry(1), int64(1), object(1)\n",
      "memory usage: 20.9+ KB\n",
      "Projection of dataframe: +init=epsg:32613 +type=crs\n"
     ]
    }
   ],
   "source": [
    "# Checking the data format\n",
    "hydro_points.info() # make sure that Hylak_id is an integer\n",
    "\n",
    "print(\"Projection of dataframe: {}\".format(hydro_points.crs))"
   ]
  },
  {
   "cell_type": "markdown",
   "metadata": {},
   "source": [
    "**NOT NECESSARY** For grins and visualization, import the HydroLakes shapefile that identifies lake polygons for Colorado"
   ]
  },
  {
   "cell_type": "code",
   "execution_count": 7,
   "metadata": {},
   "outputs": [],
   "source": [
    "# Download HydroLAKES polygon data for Colorado\n",
    "#url = 'https://97dc600d3ccc765f840c-d5a4231de41cd7a15e06ac00b0bcc552.ssl.cf5.rackcdn.com/HydroLAKES_polys_v10_shp.zip'\n",
    "#hydro_polys = open_zips(url, colo_shp)"
   ]
  },
  {
   "cell_type": "code",
   "execution_count": 8,
   "metadata": {},
   "outputs": [],
   "source": [
    "#hydro_polys.info()"
   ]
  },
  {
   "cell_type": "code",
   "execution_count": 9,
   "metadata": {},
   "outputs": [],
   "source": [
    "# Export \n",
    "#out_path = os.path.join(\"data\", \"hydro_polys.shp\")\n",
    "#hydro_polys.to_file(out_path)"
   ]
  },
  {
   "cell_type": "markdown",
   "metadata": {},
   "source": [
    "## 4c. Download LimnoSat output \n",
    "This is a remote sensing dataset for inland waters from cloud-free Landsat observations of U.S. lakes larger than 0.1 km^2.  Reflectance values are extracted from the Chebyshev Center: the  center of the largest circle that can fit entirely within a given polygon's boundary(Topp et al. 2020, Shen et al. 2015) Topp et al. identify this point as the location of the pixel that is furthest away from the lake shoreline (derived from GEE script by Topp et al.) "
   ]
  },
  {
   "cell_type": "code",
   "execution_count": 10,
   "metadata": {},
   "outputs": [],
   "source": [
    "# Download LimnoSAT image data\n",
    "\n",
    "#url = \"https://zenodo.org/record/4139695/files/srCorrected_us_hydrolakes_dp_20200628.feather\"\n",
    "#limnosat = pd.read_feather(url)\n",
    "# Couldn't figure out how to download feather from url. Worked better to download feather locally\n",
    "\n",
    "limnosat_path = os.path.join(\n",
    "    \"data\", \"srCorrected_us_hydrolakes_dp_20200628.feather\")\n",
    "limnosat = pd.read_feather(limnosat_path, columns=None,\n",
    "                           use_threads=True, storage_options=None)"
   ]
  },
  {
   "cell_type": "code",
   "execution_count": 11,
   "metadata": {},
   "outputs": [
    {
     "name": "stdout",
     "output_type": "stream",
     "text": [
      "<class 'pandas.core.frame.DataFrame'>\n",
      "RangeIndex: 22301620 entries, 0 to 22301619\n",
      "Data columns (total 17 columns):\n",
      " #   Column        Dtype   \n",
      "---  ------        -----   \n",
      " 0   LandsatID     object  \n",
      " 1   Hylak_id      float64 \n",
      " 2   date          object  \n",
      " 3   Aerosol       float64 \n",
      " 4   Blue          float64 \n",
      " 5   Red           float64 \n",
      " 6   Green         float64 \n",
      " 7   Nir           float64 \n",
      " 8   Swir1         float64 \n",
      " 9   Swir2         float64 \n",
      " 10  TIR1          float64 \n",
      " 11  TIR2          float64 \n",
      " 12  sat           category\n",
      " 13  pCount_dswe1  float64 \n",
      " 14  pCount_dswe3  float64 \n",
      " 15  year          int32   \n",
      " 16  dWL           float64 \n",
      "dtypes: category(1), float64(13), int32(1), object(2)\n",
      "memory usage: 2.6+ GB\n"
     ]
    }
   ],
   "source": [
    "limnosat.info()"
   ]
  },
  {
   "cell_type": "markdown",
   "metadata": {},
   "source": [
    "## 4d. Download MTBS fire polygons"
   ]
  },
  {
   "cell_type": "code",
   "execution_count": 12,
   "metadata": {},
   "outputs": [
    {
     "name": "stdout",
     "output_type": "stream",
     "text": [
      "Downloading shapefile...\n",
      "['mtbs_perims_DD/mtbs_perims_DD.dbf', 'mtbs_perims_DD/mtbs_perims_DD.prj', 'mtbs_perims_DD/mtbs_perims_DD.shp', 'mtbs_perims_DD/mtbs_perims_DD.shx']\n",
      "Done\n",
      "Shape of the dataframe: (377, 23)\n",
      "Projection of dataframe: +init=epsg:32613 +type=crs\n"
     ]
    }
   ],
   "source": [
    "url = 'https://edcintl.cr.usgs.gov/downloads/sciweb1/shared/MTBS_Fire/data/composite_data/burned_area_extent_shapefile/mtbs_perimeter_data.zip'\n",
    "mtbs_polys = open_zips(url, colo_shp)\n",
    "\n",
    "# Comment out download and use this if running script more than once\n",
    "# in_path = os.path.join(\"data\", \"mtbs_polys.shp\")\n",
    "# mtbs_polys = gpd.read_file(in_path)"
   ]
  },
  {
   "cell_type": "code",
   "execution_count": 13,
   "metadata": {},
   "outputs": [],
   "source": [
    "# Write out for future use in other, less memory hungry scripts\n",
    "#out_path = os.path.join(\"data\", \"mtbs_polys.shp\")\n",
    "#mtbs_polys.to_file(out_path)"
   ]
  },
  {
   "cell_type": "code",
   "execution_count": 14,
   "metadata": {},
   "outputs": [
    {
     "name": "stdout",
     "output_type": "stream",
     "text": [
      "<class 'geopandas.geodataframe.GeoDataFrame'>\n",
      "Int64Index: 377 entries, 151 to 26387\n",
      "Data columns (total 23 columns):\n",
      " #   Column      Non-Null Count  Dtype   \n",
      "---  ------      --------------  -----   \n",
      " 0   Event_ID    377 non-null    object  \n",
      " 1   irwinID     72 non-null     object  \n",
      " 2   Incid_Name  377 non-null    object  \n",
      " 3   Incid_Type  377 non-null    object  \n",
      " 4   Map_ID      377 non-null    int64   \n",
      " 5   Map_Prog    377 non-null    object  \n",
      " 6   Asmnt_Type  377 non-null    object  \n",
      " 7   BurnBndAc   377 non-null    int64   \n",
      " 8   BurnBndLat  377 non-null    object  \n",
      " 9   BurnBndLon  377 non-null    object  \n",
      " 10  Ig_Date     377 non-null    object  \n",
      " 11  Pre_ID      329 non-null    object  \n",
      " 12  Post_ID     377 non-null    object  \n",
      " 13  Perim_ID    89 non-null     object  \n",
      " 14  dNBR_offst  377 non-null    int64   \n",
      " 15  dNBR_stdDv  377 non-null    int64   \n",
      " 16  NoData_T    377 non-null    int64   \n",
      " 17  IncGreen_T  377 non-null    int64   \n",
      " 18  Low_T       377 non-null    int64   \n",
      " 19  Mod_T       377 non-null    int64   \n",
      " 20  High_T      377 non-null    int64   \n",
      " 21  Comment     51 non-null     object  \n",
      " 22  geometry    377 non-null    geometry\n",
      "dtypes: geometry(1), int64(9), object(13)\n",
      "memory usage: 70.7+ KB\n"
     ]
    }
   ],
   "source": [
    "mtbs_polys.info()"
   ]
  },
  {
   "cell_type": "markdown",
   "metadata": {},
   "source": [
    "# 5. Subsetting and Merging to one dataframe"
   ]
  },
  {
   "cell_type": "markdown",
   "metadata": {},
   "source": [
    "## 5a. Subset LimnoSat dataset for CONUS to Colorado data by matching rows from Colorado \n",
    "deep lakes (hydro_points) to whole limnosat dataset, then merge the dataframes to generate\n",
    "a LimnoSat dataset with deep point geometries."
   ]
  },
  {
   "cell_type": "code",
   "execution_count": 15,
   "metadata": {},
   "outputs": [],
   "source": [
    "# conversion of shared column to integer before merging\n",
    "limnosat['Hylak_id'] = limnosat['Hylak_id'].astype(int)\n",
    "# = limnosat.loc[limnosat['Hylak_id'] == hydro_points['Hylak_id']]\n",
    "\n",
    "subset_limno = limnosat[limnosat.set_index(['Hylak_id']).index.isin(\n",
    "    hydro_points.set_index(['Hylak_id']).index)]  # subset limnoSAT dataset to lake IDs found\n",
    "# in Colorado HydroLAKES points"
   ]
  },
  {
   "cell_type": "code",
   "execution_count": 16,
   "metadata": {},
   "outputs": [],
   "source": [
    "#subset_limno.info()"
   ]
  },
  {
   "cell_type": "code",
   "execution_count": 17,
   "metadata": {},
   "outputs": [
    {
     "name": "stdout",
     "output_type": "stream",
     "text": [
      "Projection of dataframe: +init=epsg:32613 +type=crs\n"
     ]
    }
   ],
   "source": [
    "hydro_points.set_index(['Hylak_id'])\n",
    "\n",
    "# Merge with `merge` method on shared variable (Hylak_id):\n",
    "limnosat_pnts = hydro_points.merge(subset_limno, on='Hylak_id')\n",
    "\n",
    "#limnosat_pnts.info()\n",
    "\n",
    "# Check for an equal area projection that is most accurate to where buffer will be\n",
    "# https://www.esri.com/news/arcuser/0111/geodesic.html\n",
    "print(\"Projection of dataframe: {}\".format(limnosat_pnts.crs))"
   ]
  },
  {
   "cell_type": "markdown",
   "metadata": {},
   "source": [
    "## 5b.  Generate a 2km buffer around each deep point. This will be a proxy for the lake \"catchment\""
   ]
  },
  {
   "cell_type": "code",
   "execution_count": 18,
   "metadata": {},
   "outputs": [],
   "source": [
    "limnosat_pnts['buffer'] = limnosat_pnts.geometry.buffer(2000)\n",
    "\n",
    "# Drop the points so the script isn't confused later\n",
    "limnosat_buffs = limnosat_pnts.drop(['geometry'], axis=1)"
   ]
  },
  {
   "cell_type": "code",
   "execution_count": 19,
   "metadata": {},
   "outputs": [
    {
     "name": "stdout",
     "output_type": "stream",
     "text": [
      "<class 'geopandas.geodataframe.GeoDataFrame'>\n",
      "Int64Index: 396902 entries, 0 to 396901\n",
      "Data columns (total 20 columns):\n",
      " #   Column        Non-Null Count   Dtype   \n",
      "---  ------        --------------   -----   \n",
      " 0   distance      396902 non-null  float64 \n",
      " 1   type          396902 non-null  object  \n",
      " 2   Hylak_id      396902 non-null  int64   \n",
      " 3   LandsatID     396902 non-null  object  \n",
      " 4   date          396902 non-null  object  \n",
      " 5   Aerosol       396902 non-null  float64 \n",
      " 6   Blue          396902 non-null  float64 \n",
      " 7   Red           396902 non-null  float64 \n",
      " 8   Green         396902 non-null  float64 \n",
      " 9   Nir           396902 non-null  float64 \n",
      " 10  Swir1         396902 non-null  float64 \n",
      " 11  Swir2         396902 non-null  float64 \n",
      " 12  TIR1          396902 non-null  float64 \n",
      " 13  TIR2          396902 non-null  float64 \n",
      " 14  sat           396902 non-null  category\n",
      " 15  pCount_dswe1  396902 non-null  float64 \n",
      " 16  pCount_dswe3  396902 non-null  float64 \n",
      " 17  year          396902 non-null  int32   \n",
      " 18  dWL           396902 non-null  float64 \n",
      " 19  buffer        396902 non-null  geometry\n",
      "dtypes: category(1), float64(13), geometry(1), int32(1), int64(1), object(3)\n",
      "memory usage: 59.4+ MB\n"
     ]
    }
   ],
   "source": [
    "limnosat_buffs.info()"
   ]
  },
  {
   "cell_type": "code",
   "execution_count": 29,
   "metadata": {},
   "outputs": [],
   "source": [
    "# Check to see if this can be exported before merging with MTBS\n",
    "# but first change catagory datatypes to strings\n",
    "limnosat_buffs['sat'] = limnosat_buffs['sat'].astype(str)\n",
    "\n",
    "#out_path = os.path.join(\"data\", \"lake_buffers.shp\")\n",
    "#limnosat_buffs.to_file(out_path)"
   ]
  },
  {
   "cell_type": "markdown",
   "metadata": {},
   "source": [
    "## 5c. Merge buffered lake dataset and MTBS fire dataset"
   ]
  },
  {
   "cell_type": "code",
   "execution_count": 20,
   "metadata": {},
   "outputs": [],
   "source": [
    "# Function to merge these data frames generates a new polygon, but I want to keep the originals as well\n",
    "# Merge needs a column named 'geometry'\n",
    "limnosat_buffs['geometry'] = limnosat_buffs['buffer']\n",
    "mtbs_polys['fire_poly'] = mtbs_polys['geometry']\n",
    "\n",
    "#limnosat_buffs.head()"
   ]
  },
  {
   "cell_type": "code",
   "execution_count": 21,
   "metadata": {},
   "outputs": [],
   "source": [
    "merged = gpd.overlay(mtbs_polys, limnosat_buffs, how ='intersection')\n",
    "#merged_columns_union = gpd.overlay(limno_buffs,just_mtbs_polys,  how ='union')\n",
    "#merged_union = gpd.overlay(limnosat_pnts,mtbs_polys,  how ='union')"
   ]
  },
  {
   "cell_type": "code",
   "execution_count": 22,
   "metadata": {},
   "outputs": [
    {
     "data": {
      "image/png": "[encoded data removed]",
      "text/plain": [
       "<Figure size 1152x864 with 1 Axes>"
      ]
     },
     "metadata": {
      "needs_background": "light"
     },
     "output_type": "display_data"
    }
   ],
   "source": [
    "fig, ax = plt.subplots(figsize=(16, 12))\n",
    "\n",
    "merged['fire_poly'].plot(ax = ax, \n",
    "                     color='red');\n",
    "\n",
    "merged['buffer'].plot(ax=ax, \n",
    "                 color='blue', \n",
    "                 alpha=0.5);\n",
    "\n",
    "merged['geometry'].plot(ax=ax, color = 'chartreuse', \n",
    "            #edgecolor = 'black',\n",
    "            linewidth = 1,\n",
    "            alpha=0.5);"
   ]
  },
  {
   "cell_type": "markdown",
   "metadata": {},
   "source": [
    "## 5d. Subset to Landsat images taken within 5 years of fire\n",
    "This dataset covers a long period of time. I am really only interested in maybe 5-10 years post fire. To subset images (dataframe rows) by days before/after fire:"
   ]
  },
  {
   "cell_type": "code",
   "execution_count": 23,
   "metadata": {
    "scrolled": true
   },
   "outputs": [
    {
     "name": "stdout",
     "output_type": "stream",
     "text": [
      "         Ig_Date       date   pre_post  days_since  img_month\n",
      "69    2012-06-23 2007-07-16   pre-fire       -1804          7\n",
      "70    2012-06-23 2007-08-01   pre-fire       -1788          8\n",
      "71    2012-06-23 2007-09-18   pre-fire       -1740          9\n",
      "72    2012-06-23 2007-10-04   pre-fire       -1724         10\n",
      "73    2012-06-23 2007-10-20   pre-fire       -1708         10\n",
      "...          ...        ...        ...         ...        ...\n",
      "33535 2018-07-19 2018-06-02   pre-fire         -47          6\n",
      "33536 2018-07-19 2018-06-18   pre-fire         -31          6\n",
      "33537 2018-07-19 2019-06-05  post-fire         321          6\n",
      "33538 2018-07-19 2019-07-23  post-fire         369          7\n",
      "33539 2018-07-19 2020-05-22  post-fire         673          5\n",
      "\n",
      "[11126 rows x 5 columns]\n"
     ]
    }
   ],
   "source": [
    "# 1. Make sure desired dates are in date format\n",
    "merged['date'] = pd.to_datetime(merged['date'])\n",
    "merged['Ig_Date'] = pd.to_datetime(merged['Ig_Date'])\n",
    "merged.Ig_Date\n",
    "\n",
    "# 2. Set a column to identify images as pre- or post-fire\n",
    "merged['pre_post'] = np.where(\n",
    "    merged['date'] < merged['Ig_Date'], \"pre-fire\", \"post-fire\")\n",
    "\n",
    "# 3. Generate a calculation for the lapse of time pre- or post fire for plotting\n",
    "merged['days_since'] = (merged['date'] - merged['Ig_Date'])\n",
    "# print(merged.days_since)\n",
    "\n",
    "# 4. Convert days_since to numerical/integer value that can be indexed and plotted\n",
    "merged.days_since = merged.days_since.astype('timedelta64[D]').astype(int)\n",
    "\n",
    "# 5. Add a image month column for trend monitoring\n",
    "merged['img_month'] = pd.DatetimeIndex(merged['date']).month\n",
    "\n",
    "# 6. Assuming that I want to look at trends 5 years pre and post fire - subset days to |1825|\n",
    "merged = merged.loc[(merged['days_since'] < 1825) &\n",
    "                    (merged['days_since'] > -1825)]\n",
    "\n",
    "# Check that new or converted values make sense\n",
    "print(merged[['Ig_Date', 'date', 'pre_post', 'days_since', 'img_month']])"
   ]
  },
  {
   "cell_type": "markdown",
   "metadata": {},
   "source": [
    "# 6. Export the data\n",
    "\n",
    "# **** Here is a subset of the 'merged' dataframe that contains the problem geometries.\n",
    "# 'merged' has three geometry columns:\n",
    "-'fire_polys' which is the polygon from the MTBS dataset\n",
    "\n",
    "-'buffer', which is the polygon generated from a 2km buffer around lake points (from limnosat_buffs)\n",
    "\n",
    "-'geometry', which is the polygon that represents the overlap between the fire polygon and the lake\n",
    "buffer\n",
    "\n",
    "'geometry' seems to export OK, but the other two do not. "
   ]
  },
  {
   "cell_type": "code",
   "execution_count": 32,
   "metadata": {},
   "outputs": [
    {
     "data": {
      "text/plain": [
       "array(['Polygon'], dtype=object)"
      ]
     },
     "execution_count": 32,
     "metadata": {},
     "output_type": "execute_result"
    }
   ],
   "source": [
    "# The resulting geometry in the new dataframe is a new polygon that identifies overlap. \n",
    "\n",
    "# Cannot seem to export this dataframe as one file.  Contains objects, integers, floats, geometries...\n",
    "# so try separating by type to export\n",
    "\n",
    "merged_geo = gpd.GeoDataFrame(merged[['Hylak_id','fire_poly']].copy())\n",
    "#merged_geo['Hylak_id'] = merged_geo.Hylak_id.astype('str')\n",
    "merged_geo = merged_geo.iloc[0:1,]\n",
    "\n",
    "#merged[merged['buffer'].isna()==True]\n",
    "#merged[merged['buffer'].is_valid==False]\n",
    "#merged[merged['buffer'].is_empty==True]\n",
    "\n",
    "merged_geo['geometry']= merged_geo['fire_poly']\n",
    "merged_geo.info\n",
    "merged_geo.columns\n",
    "\n",
    "merged_geo.geom_type\n",
    "pd.unique(merged_geo.geom_type)"
   ]
  },
  {
   "cell_type": "code",
   "execution_count": 33,
   "metadata": {},
   "outputs": [
    {
     "name": "stdout",
     "output_type": "stream",
     "text": [
      "<class 'geopandas.geodataframe.GeoDataFrame'>\n",
      "Int64Index: 1 entries, 69 to 69\n",
      "Data columns (total 3 columns):\n",
      " #   Column     Non-Null Count  Dtype   \n",
      "---  ------     --------------  -----   \n",
      " 0   Hylak_id   1 non-null      int64   \n",
      " 1   fire_poly  1 non-null      geometry\n",
      " 2   geometry   1 non-null      geometry\n",
      "dtypes: geometry(2), int64(1)\n",
      "memory usage: 32.0 bytes\n",
      "None\n",
      "    Hylak_id                                          fire_poly  \\\n",
      "69    112400  POLYGON ((501154.903 4310502.509, 501156.334 4...   \n",
      "\n",
      "                                             geometry  \n",
      "69  POLYGON ((501154.903 4310502.509, 501156.334 4...  \n"
     ]
    }
   ],
   "source": [
    "print(merged_geo.info())\n",
    "print(merged_geo.head())"
   ]
  },
  {
   "cell_type": "code",
   "execution_count": 34,
   "metadata": {},
   "outputs": [
    {
     "ename": "TypeError",
     "evalue": "Cannot interpret '<geopandas.array.GeometryDtype object at 0x7f95da806a60>' as a data type",
     "output_type": "error",
     "traceback": [
      "\u001b[0;31m---------------------------------------------------------------------------\u001b[0m",
      "\u001b[0;31mTypeError\u001b[0m                                 Traceback (most recent call last)",
      "\u001b[0;32m<ipython-input-34-453d1de077dc>\u001b[0m in \u001b[0;36m<module>\u001b[0;34m\u001b[0m\n\u001b[1;32m      1\u001b[0m \u001b[0moutfp\u001b[0m \u001b[0;34m=\u001b[0m \u001b[0mos\u001b[0m\u001b[0;34m.\u001b[0m\u001b[0mpath\u001b[0m\u001b[0;34m.\u001b[0m\u001b[0mjoin\u001b[0m\u001b[0;34m(\u001b[0m\u001b[0;34m\"data\"\u001b[0m\u001b[0;34m,\u001b[0m \u001b[0;34m\"lake_mtbs_merged_geo.shp\"\u001b[0m\u001b[0;34m)\u001b[0m\u001b[0;34m\u001b[0m\u001b[0;34m\u001b[0m\u001b[0m\n\u001b[0;32m----> 2\u001b[0;31m \u001b[0mmerged_geo\u001b[0m\u001b[0;34m.\u001b[0m\u001b[0mto_file\u001b[0m\u001b[0;34m(\u001b[0m\u001b[0moutfp\u001b[0m\u001b[0;34m)\u001b[0m\u001b[0;34m\u001b[0m\u001b[0;34m\u001b[0m\u001b[0m\n\u001b[0m",
      "\u001b[0;32m~/miniconda3/envs/earth-analytics-python/lib/python3.8/site-packages/geopandas/geodataframe.py\u001b[0m in \u001b[0;36mto_file\u001b[0;34m(self, filename, driver, schema, index, **kwargs)\u001b[0m\n\u001b[1;32m   1084\u001b[0m         \u001b[0;32mfrom\u001b[0m \u001b[0mgeopandas\u001b[0m\u001b[0;34m.\u001b[0m\u001b[0mio\u001b[0m\u001b[0;34m.\u001b[0m\u001b[0mfile\u001b[0m \u001b[0;32mimport\u001b[0m \u001b[0m_to_file\u001b[0m\u001b[0;34m\u001b[0m\u001b[0;34m\u001b[0m\u001b[0m\n\u001b[1;32m   1085\u001b[0m \u001b[0;34m\u001b[0m\u001b[0m\n\u001b[0;32m-> 1086\u001b[0;31m         \u001b[0m_to_file\u001b[0m\u001b[0;34m(\u001b[0m\u001b[0mself\u001b[0m\u001b[0;34m,\u001b[0m \u001b[0mfilename\u001b[0m\u001b[0;34m,\u001b[0m \u001b[0mdriver\u001b[0m\u001b[0;34m,\u001b[0m \u001b[0mschema\u001b[0m\u001b[0;34m,\u001b[0m \u001b[0mindex\u001b[0m\u001b[0;34m,\u001b[0m \u001b[0;34m**\u001b[0m\u001b[0mkwargs\u001b[0m\u001b[0;34m)\u001b[0m\u001b[0;34m\u001b[0m\u001b[0;34m\u001b[0m\u001b[0m\n\u001b[0m\u001b[1;32m   1087\u001b[0m \u001b[0;34m\u001b[0m\u001b[0m\n\u001b[1;32m   1088\u001b[0m     \u001b[0;32mdef\u001b[0m \u001b[0mset_crs\u001b[0m\u001b[0;34m(\u001b[0m\u001b[0mself\u001b[0m\u001b[0;34m,\u001b[0m \u001b[0mcrs\u001b[0m\u001b[0;34m=\u001b[0m\u001b[0;32mNone\u001b[0m\u001b[0;34m,\u001b[0m \u001b[0mepsg\u001b[0m\u001b[0;34m=\u001b[0m\u001b[0;32mNone\u001b[0m\u001b[0;34m,\u001b[0m \u001b[0minplace\u001b[0m\u001b[0;34m=\u001b[0m\u001b[0;32mFalse\u001b[0m\u001b[0;34m,\u001b[0m \u001b[0mallow_override\u001b[0m\u001b[0;34m=\u001b[0m\u001b[0;32mFalse\u001b[0m\u001b[0;34m)\u001b[0m\u001b[0;34m:\u001b[0m\u001b[0;34m\u001b[0m\u001b[0;34m\u001b[0m\u001b[0m\n",
      "\u001b[0;32m~/miniconda3/envs/earth-analytics-python/lib/python3.8/site-packages/geopandas/io/file.py\u001b[0m in \u001b[0;36m_to_file\u001b[0;34m(df, filename, driver, schema, index, mode, crs, **kwargs)\u001b[0m\n\u001b[1;32m    302\u001b[0m         \u001b[0mdf\u001b[0m \u001b[0;34m=\u001b[0m \u001b[0mdf\u001b[0m\u001b[0;34m.\u001b[0m\u001b[0mreset_index\u001b[0m\u001b[0;34m(\u001b[0m\u001b[0mdrop\u001b[0m\u001b[0;34m=\u001b[0m\u001b[0;32mFalse\u001b[0m\u001b[0;34m)\u001b[0m\u001b[0;34m\u001b[0m\u001b[0;34m\u001b[0m\u001b[0m\n\u001b[1;32m    303\u001b[0m     \u001b[0;32mif\u001b[0m \u001b[0mschema\u001b[0m \u001b[0;32mis\u001b[0m \u001b[0;32mNone\u001b[0m\u001b[0;34m:\u001b[0m\u001b[0;34m\u001b[0m\u001b[0;34m\u001b[0m\u001b[0m\n\u001b[0;32m--> 304\u001b[0;31m         \u001b[0mschema\u001b[0m \u001b[0;34m=\u001b[0m \u001b[0minfer_schema\u001b[0m\u001b[0;34m(\u001b[0m\u001b[0mdf\u001b[0m\u001b[0;34m)\u001b[0m\u001b[0;34m\u001b[0m\u001b[0;34m\u001b[0m\u001b[0m\n\u001b[0m\u001b[1;32m    305\u001b[0m     \u001b[0;32mif\u001b[0m \u001b[0mcrs\u001b[0m\u001b[0;34m:\u001b[0m\u001b[0;34m\u001b[0m\u001b[0;34m\u001b[0m\u001b[0m\n\u001b[1;32m    306\u001b[0m         \u001b[0mcrs\u001b[0m \u001b[0;34m=\u001b[0m \u001b[0mpyproj\u001b[0m\u001b[0;34m.\u001b[0m\u001b[0mCRS\u001b[0m\u001b[0;34m.\u001b[0m\u001b[0mfrom_user_input\u001b[0m\u001b[0;34m(\u001b[0m\u001b[0mcrs\u001b[0m\u001b[0;34m)\u001b[0m\u001b[0;34m\u001b[0m\u001b[0;34m\u001b[0m\u001b[0m\n",
      "\u001b[0;32m~/miniconda3/envs/earth-analytics-python/lib/python3.8/site-packages/geopandas/io/file.py\u001b[0m in \u001b[0;36minfer_schema\u001b[0;34m(df)\u001b[0m\n\u001b[1;32m    352\u001b[0m \u001b[0;34m\u001b[0m\u001b[0m\n\u001b[1;32m    353\u001b[0m     properties = OrderedDict(\n\u001b[0;32m--> 354\u001b[0;31m         [\n\u001b[0m\u001b[1;32m    355\u001b[0m             \u001b[0;34m(\u001b[0m\u001b[0mcol\u001b[0m\u001b[0;34m,\u001b[0m \u001b[0mconvert_type\u001b[0m\u001b[0;34m(\u001b[0m\u001b[0mcol\u001b[0m\u001b[0;34m,\u001b[0m \u001b[0m_type\u001b[0m\u001b[0;34m)\u001b[0m\u001b[0;34m)\u001b[0m\u001b[0;34m\u001b[0m\u001b[0;34m\u001b[0m\u001b[0m\n\u001b[1;32m    356\u001b[0m             \u001b[0;32mfor\u001b[0m \u001b[0mcol\u001b[0m\u001b[0;34m,\u001b[0m \u001b[0m_type\u001b[0m \u001b[0;32min\u001b[0m \u001b[0mzip\u001b[0m\u001b[0;34m(\u001b[0m\u001b[0mdf\u001b[0m\u001b[0;34m.\u001b[0m\u001b[0mcolumns\u001b[0m\u001b[0;34m,\u001b[0m \u001b[0mdf\u001b[0m\u001b[0;34m.\u001b[0m\u001b[0mdtypes\u001b[0m\u001b[0;34m)\u001b[0m\u001b[0;34m\u001b[0m\u001b[0;34m\u001b[0m\u001b[0m\n",
      "\u001b[0;32m~/miniconda3/envs/earth-analytics-python/lib/python3.8/site-packages/geopandas/io/file.py\u001b[0m in \u001b[0;36m<listcomp>\u001b[0;34m(.0)\u001b[0m\n\u001b[1;32m    353\u001b[0m     properties = OrderedDict(\n\u001b[1;32m    354\u001b[0m         [\n\u001b[0;32m--> 355\u001b[0;31m             \u001b[0;34m(\u001b[0m\u001b[0mcol\u001b[0m\u001b[0;34m,\u001b[0m \u001b[0mconvert_type\u001b[0m\u001b[0;34m(\u001b[0m\u001b[0mcol\u001b[0m\u001b[0;34m,\u001b[0m \u001b[0m_type\u001b[0m\u001b[0;34m)\u001b[0m\u001b[0;34m)\u001b[0m\u001b[0;34m\u001b[0m\u001b[0;34m\u001b[0m\u001b[0m\n\u001b[0m\u001b[1;32m    356\u001b[0m             \u001b[0;32mfor\u001b[0m \u001b[0mcol\u001b[0m\u001b[0;34m,\u001b[0m \u001b[0m_type\u001b[0m \u001b[0;32min\u001b[0m \u001b[0mzip\u001b[0m\u001b[0;34m(\u001b[0m\u001b[0mdf\u001b[0m\u001b[0;34m.\u001b[0m\u001b[0mcolumns\u001b[0m\u001b[0;34m,\u001b[0m \u001b[0mdf\u001b[0m\u001b[0;34m.\u001b[0m\u001b[0mdtypes\u001b[0m\u001b[0;34m)\u001b[0m\u001b[0;34m\u001b[0m\u001b[0;34m\u001b[0m\u001b[0m\n\u001b[1;32m    357\u001b[0m             \u001b[0;32mif\u001b[0m \u001b[0mcol\u001b[0m \u001b[0;34m!=\u001b[0m \u001b[0mdf\u001b[0m\u001b[0;34m.\u001b[0m\u001b[0m_geometry_column_name\u001b[0m\u001b[0;34m\u001b[0m\u001b[0;34m\u001b[0m\u001b[0m\n",
      "\u001b[0;32m~/miniconda3/envs/earth-analytics-python/lib/python3.8/site-packages/geopandas/io/file.py\u001b[0m in \u001b[0;36mconvert_type\u001b[0;34m(column, in_type)\u001b[0m\n\u001b[1;32m    346\u001b[0m             \u001b[0mout_type\u001b[0m \u001b[0;34m=\u001b[0m \u001b[0mtypes\u001b[0m\u001b[0;34m[\u001b[0m\u001b[0mstr\u001b[0m\u001b[0;34m(\u001b[0m\u001b[0min_type\u001b[0m\u001b[0;34m)\u001b[0m\u001b[0;34m]\u001b[0m\u001b[0;34m\u001b[0m\u001b[0;34m\u001b[0m\u001b[0m\n\u001b[1;32m    347\u001b[0m         \u001b[0;32melse\u001b[0m\u001b[0;34m:\u001b[0m\u001b[0;34m\u001b[0m\u001b[0;34m\u001b[0m\u001b[0m\n\u001b[0;32m--> 348\u001b[0;31m             \u001b[0mout_type\u001b[0m \u001b[0;34m=\u001b[0m \u001b[0mtype\u001b[0m\u001b[0;34m(\u001b[0m\u001b[0mnp\u001b[0m\u001b[0;34m.\u001b[0m\u001b[0mzeros\u001b[0m\u001b[0;34m(\u001b[0m\u001b[0;36m1\u001b[0m\u001b[0;34m,\u001b[0m \u001b[0min_type\u001b[0m\u001b[0;34m)\u001b[0m\u001b[0;34m.\u001b[0m\u001b[0mitem\u001b[0m\u001b[0;34m(\u001b[0m\u001b[0;34m)\u001b[0m\u001b[0;34m)\u001b[0m\u001b[0;34m.\u001b[0m\u001b[0m__name__\u001b[0m\u001b[0;34m\u001b[0m\u001b[0;34m\u001b[0m\u001b[0m\n\u001b[0m\u001b[1;32m    349\u001b[0m         \u001b[0;32mif\u001b[0m \u001b[0mout_type\u001b[0m \u001b[0;34m==\u001b[0m \u001b[0;34m\"long\"\u001b[0m\u001b[0;34m:\u001b[0m\u001b[0;34m\u001b[0m\u001b[0;34m\u001b[0m\u001b[0m\n\u001b[1;32m    350\u001b[0m             \u001b[0mout_type\u001b[0m \u001b[0;34m=\u001b[0m \u001b[0;34m\"int\"\u001b[0m\u001b[0;34m\u001b[0m\u001b[0;34m\u001b[0m\u001b[0m\n",
      "\u001b[0;31mTypeError\u001b[0m: Cannot interpret '<geopandas.array.GeometryDtype object at 0x7f95da806a60>' as a data type"
     ]
    }
   ],
   "source": [
    "outfp = os.path.join(\"data\", \"lake_mtbs_merged_geo.shp\")\n",
    "merged_geo.to_file(outfp)"
   ]
  },
  {
   "cell_type": "code",
   "execution_count": null,
   "metadata": {},
   "outputs": [],
   "source": [
    "# Make a copy of the geopandas dataframe\n",
    "merged1 = merged.copy()\n",
    "\n",
    "# Designate desitnation path\n",
    "outfp = os.path.join(\"data\", \"lake_mtbs_merged_tab.csv\")\n",
    "\n",
    "# Export tabular data after dropping troublesome geometry columns\n",
    "merged1.drop(columns = ['fire_poly','buffer', 'geometry']).to_csv(outfp)"
   ]
  },
  {
   "cell_type": "code",
   "execution_count": null,
   "metadata": {},
   "outputs": [],
   "source": []
  }
 ],
 "metadata": {
  "anaconda-cloud": {},
  "kernelspec": {
   "display_name": "Python 3",
   "language": "python",
   "name": "python3"
  },
  "language_info": {
   "codemirror_mode": {
    "name": "ipython",
    "version": 3
   },
   "file_extension": ".py",
   "mimetype": "text/x-python",
   "name": "python",
   "nbconvert_exporter": "python",
   "pygments_lexer": "ipython3",
   "version": "3.8.8"
  },
  "toc": {
   "base_numbering": 1,
   "nav_menu": {},
   "number_sections": false,
   "sideBar": true,
   "skip_h1_title": false,
   "title_cell": "Table of Contents",
   "title_sidebar": "Contents",
   "toc_cell": false,
   "toc_position": {
    "height": "calc(100% - 180px)",
    "left": "10px",
    "top": "150px",
    "width": "165px"
   },
   "toc_section_display": true,
   "toc_window_display": true
  }
 },
 "nbformat": 4,
 "nbformat_minor": 2
}
