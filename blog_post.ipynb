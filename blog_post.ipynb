{
 "cells": [
  {
   "cell_type": "markdown",
   "id": "correct-contamination",
   "metadata": {},
   "source": [
    "## When \"going green\" Isn't Good: Lake Color Response to Wildfire:"
   ]
  },
  {
   "cell_type": "markdown",
   "id": "anonymous-flash",
   "metadata": {},
   "source": [
    "### By Lauren Kremer\n",
    "June 2021"
   ]
  },
  {
   "cell_type": "markdown",
   "id": "relative-stadium",
   "metadata": {},
   "source": [
    "### Trees and plants affect lake color\n",
    "   The forests in the US Southwest have been altered by changes in wildfire patterns. They are especially affected by increased fire severity (Chambers et al. 2016, Malone et al. 2016, Coop et al. 2020 and others). Tree and vegetation regrowth is often slow or non-existant after high severity fires. It is expected that in some burned Ponderosa forests, trees may not recover at all in our lifetimes.  They may instead be replaced by shrubs and grasslands (Chambers et al. 2016, Kerns et al. 2018). \n",
    "\n",
    "   Vegetation within water catchments regulates water quality through controlled retention and release of nutrients. However, when vegetation is burned in a wildfire,  the demand of nutrients is drastically and suddenly reduced (Rhoades et al. 2019). Additionally, severely burned soils can be come water resistant or 'hydrophobic' (Reale et al. 2015). The combination of these wildfire effects means that in post-fire rainfall, nutrients and sediment travel downhill towards streams and lakes like muddy, fertilized raindrops on a Gore-Tex coat. Many studies demonstrate increased nutrient and sediment content in streams with burned catchments, which reduces the quality of stream water and can change the ecosystems within them. However, little research has been done to measure changes in the quality and function of lakes affected by wildfire. \n",
    "   \n",
    "   "
   ]
  },
  {
   "cell_type": "markdown",
   "id": "sufficient-louisville",
   "metadata": {},
   "source": [
    "\n",
    "![abandoned](https://upload.wikimedia.org/wikipedia/commons/b/b5/Cheesman_Dam_at_Cheesman_Reservoir.jpg)"
   ]
  },
  {
   "cell_type": "markdown",
   "id": "editorial-renewal",
   "metadata": {},
   "source": [
    "*Figure 1.* The Cheesman Reservoir in the Hayman burn area near Pine, Colorado is an example of montane water storage that serves the Denver metro area. "
   ]
  },
  {
   "cell_type": "markdown",
   "id": "b22e95aa",
   "metadata": {},
   "source": [
    "Wildfires may have potentially similar or more severe consequences for lakes (McCullough et al. 2018). Unlike streams and rivers, lakes have much longer water residence times. This means sediment and nutrients can remain in and affect lakes long after they have settled or washed out of the streams above them. This is a concern for the US. Southwest as many communities, particularly those among or along the Rocky Mountain range, rely on forested mountain watersheds for potable or clean water (Figure 1). \n",
    "   \n",
    "   Water clarity and color can be used as estimates for water quality because they respond to ecological processes within the watershed (Topp et al. 2020). Gardner et al. (2020) and Topp et al. (2020) have demonstrated that long term and seasonal changes in water clarity and color be identified using Landsat satellite imagery.  "
   ]
  },
  {
   "cell_type": "markdown",
   "id": "listed-piano",
   "metadata": {},
   "source": [
    "### Objectives\n",
    "The remainder of this article describes a project intended to determine if post-wildfire changes to lake water quality can be detected with remote sensing tools like satellites. Our project has two objectives: \n",
    "1. To determine if post-wildfire changes to lake color can be detected with Landsat imagery  \n",
    "2. To identify watershed characteristics that drive changes in lake color"
   ]
  },
  {
   "cell_type": "markdown",
   "id": "infectious-sacrifice",
   "metadata": {},
   "source": [
    "### Finding burned lakes"
   ]
  },
  {
   "cell_type": "markdown",
   "id": "c3732fd4",
   "metadata": {},
   "source": [
    "There are a several of recently developed datasets that match Landsat satellite observations to *in-situ* or on-the-ground field measurements for waterbodies within the continental United States (i.e. LimnoSat by Topp et al. 2020, AquaSat by Ross et al. 2018).  LimnoSat provides the 'deepest point' caluclation for each lake and identifies color of a 120m diameter circle surrounding each point from Landsat satellites 5, 7, and 8.\n",
    "In this project, we used those deepest points, available through [Google Earth Engine](https://code.earthengine.google.com/4b49c096f90206995d89b87eb528a386) to identify lakes within Wyoming, Colorado, Utah, Arizona and New Mexico. We then drew a 2km buffer around each of those points that served as an estimate of the catchment area, or an area of land that could potentially affect the water quality in the lake.\n",
    "Then, we compared these 'catchments' to the [Monitoring Trends in Burn Severity](https://www.mtbs.gov/direct-download) burn areas and identified lakes that had catchments that overlapped with burn areas (Figure 2).  We then matched these points to the [LimnoSat](https://zenodo.org/record/4139695) color reflectance dataset to generate our own dataset of burned lakes and all of their Landsat imagery since 1984."
   ]
  },
  {
   "cell_type": "markdown",
   "id": "4d9f30a5",
   "metadata": {},
   "source": [
    "<img src=\"images/burn_polys.png\">"
   ]
  },
  {
   "cell_type": "markdown",
   "id": "integral-highland",
   "metadata": {},
   "source": [
    "*Figure 2.* US Southwestern lake catchments and wildfire burn perimeters since 1984.  Green points indicate regions where lake catchments and fire areas overlap. "
   ]
  },
  {
   "cell_type": "markdown",
   "id": "historic-husband",
   "metadata": {},
   "source": [
    "### Lake color changes as seen from space"
   ]
  },
  {
   "cell_type": "markdown",
   "id": "regular-album",
   "metadata": {},
   "source": [
    "To determine if satellite imagery detected changes in lake colors, the color wavelengths were plotted over time. Some examples from Colorado fire-affected lakes are shown below, with the ignition date of recent wildfires shown as a red, dashed, vertical line. Dates in these figures where converted to the number of years before or after the fire ignition.  To minimize seasonal effects on lake color, only July and August images were gathered from the dataset for the images below. When reviewing the annual range of color trends within individual lakes, we can see that the color trends differ among them. The Rampart Reservoir in the Pikes Peak/central region of the state reflects an increase in wavelength (a shift from bluer to greener) several years post fire, whereas the Seaman Reservoir in Northern Colorado shows that this green shift occurs in the years immediately prior to, during and after the fire. The Lemon Reservoir and Lake George reflect little change except for brief green shifts in one summer post-fire."
   ]
  },
  {
   "cell_type": "markdown",
   "id": "4e68aa8c",
   "metadata": {},
   "source": [
    "<img src=\"images/color_distribution.png\">"
   ]
  },
  {
   "cell_type": "markdown",
   "id": "hairy-tennis",
   "metadata": {},
   "source": [
    "*Figure 3.* Dispersion of dominant wavelength by years since fire ignition for July and August lake color. These sites were selected to exemplify different types of color change, where an increase can be observed in Rampart Reservoir, relative to an index decrease in the Seaman Reservoir.  Other sites, like the Lemon Reservoir and Lake George, may reflect increased variability post-fire or little change at all. "
   ]
  },
  {
   "cell_type": "markdown",
   "id": "civic-guard",
   "metadata": {},
   "source": [
    "# Continues in outline form from here:"
   ]
  },
  {
   "cell_type": "markdown",
   "id": "16be8a86",
   "metadata": {},
   "source": [
    "### 4. Why are lakes going green?\n",
    "   1. Talk to the audience about why color can change\n",
    "       * I am using chlorophyll a from in-situ data. I am not seeing a direct correlation between chla and color at this point, but if it turns up as a driver in the random forest analysis, I will need to explain why increased sediment and nutrient affects chorolphyll production and be clear on what that means for color. \n",
    "   \n",
    "2. Identify other variables for the reader that can affect lake color\n",
    "    * temperature\n",
    "    * precipitation\n",
    "    * vegetation \n",
    "    * topography\n",
    "   \n",
    "3. Identify characteristics of fire that can affect color by way of increased\n",
    "     nutrients tor sediments\n",
    "    * burn severity\n",
    "    * burn area\n",
    "\n",
    "### 5. The dirty work: Describe a little bit of the analysis to the reader\n",
    "1. \n",
    "    * At the very least, they should know that the analysis used \n",
    "        considers the interactions between all of these variables\n",
    "        \n",
    "    * Ranks them by importance\n",
    "        \n",
    "### 6. Does wildfire change lake color?\n",
    "  1. Talk about the findings of the results\n",
    "   \n",
    "     * Still collecting data, but at this point, I suspect we will find that temperature and NDVI may be bigger drivers of lake color than fire occurance, but fire characteristics may still be implicated. \n",
    "            \n",
    "     * how are identified drivers related to changes in fire occurance, severity\n",
    "               ie. how does it all come together?\n",
    "               \n",
    "### 7. How are the findings publicly useful\n",
    "   1. This depends on the results, could go on to discuss fire recovery strategies\n",
    "      * tree planting\n",
    "      * upland sediment dams \n",
    "           \n",
    "2. Or maybe a few sentences about climate adaptation in water treatment strategies?\n",
    "   \n",
    "3. entice reader with to be continued... and reference to my [Github repository](https://github.com/earthlab-education/ea-2021-final-project-wildfire_lake_productivity)"
   ]
  },
  {
   "cell_type": "markdown",
   "id": "asian-schedule",
   "metadata": {},
   "source": [
    "## Works cited:"
   ]
  },
  {
   "cell_type": "markdown",
   "id": "military-peter",
   "metadata": {},
   "source": [
    "Chambers, M. E., Fornwalt, P. J., Malone, S. L., & Battaglia, M. A. (2016). Patterns of conifer regeneration following high severity wildfire in ponderosa pine – dominated forests of the Colorado Front Range. Forest Ecology and Management, 378:57-67. doi:10.1016/j.foreco.2016.07.001\n",
    "\n",
    "Coop, J. D., S. A. Parks, C. S. Stevens-Rumann, S. D. Crausbay, P. E. Higuera, M. D. Hurteau, A. Tepley, E. Whitman, T. Assal, B. M. Collins, K. T. Davis, S. Dobrowski, D. A. Falk, P. J. Fornwalt, P. Z. Fule, B. J. Harvey, V. Kane, C. E. Littlefield, E. Q. Margolis, M. North, M. A. Parisien, S. Prichard, and K. C. Rodman. 2020. Wildfire-Driven Forest Conversion in Western North American Landscapes. Bioscience 70:659-673.\n",
    "\n",
    "Gardner, J. R., X. Yang, S. N. Topp, M. R. V. Ross, E. H. Altenau, and T. M. Pavelsky. 2021. The Color of Rivers. Geophysical Research Letters 48.\n",
    "\n",
    "Kerns, B.K., D.C. Powell, S. Mellman-Brown, G. Carwath, J.B. Kim. 2018\n",
    "Effects of projected climate change vegetation of the Blue Mountains ecoregion\n",
    "USA. Climate Services 10:33-43.\n",
    "\n",
    "Malone, S. L., Fornwalt, P. J., Battaglia, M. A., Chambers, M. E., Iniguez, J. M., & Sieg, C. H. (2018). Mixed-Severity Fire Fosters Heterogeneous Spatial Patterns of Conifer Regeneration in a Dry Conifer Forest. Forests, 9:1. doi:10.3390/f9010045\n",
    "\n",
    "McCullough, I.M., Cheruvelil, K.S. Lapierre, J.F., Lottig, N.R. (2019). Do lakes feel the burn? Ecological consequences of increasing exposure of lakes to fire in the continental United States. Global Change Biology 25:9 \n",
    "\n",
    "Reale, J. K., D. J. Van Horn, K. E. Condon, and C. N. Dahm. 2015. The effects of catastrophic wildfire on water quality along a river continuum. Freshwater Science 34:1426-1442.\n",
    "\n",
    "Rhoades, C. C., A. T. Chow, T. P. Covino, T. S. Fegel, D. N. Pierson, and A. E. Rhea. 2018. The Legacy of a Severe Wildfire on Stream Nitrogen and Carbon in Headwater Catchments. Ecosystems 22:643-657.\n",
    "\n",
    "Ross, M. R. V., S. N. Topp, A. P. Appling, X. Yang, C. Kuhn, D. Butman, M. Simard, and T. M. Pavelsky. 2019. AquaSat: A Data Set to Enable Remote Sensing ofWater Quality for InlandWaters. Water Resources Research 55:10012-10025.\n",
    "\n",
    "Topp, S. N., Pavelsky, T. M., Dugan, D. A., Yang, X., Gardner, J. R. Ross, M.R.V. (2020). Shifting patterns of lake color phenology in over 26,000 US lakes. Earth and Space Science Open Archive.\n",
    "\n",
    "Wang, S. L., Z. P. Lee, S. L. Shang, J. S. Li, B. Zhang, and G. Lin. 2019. Deriving inherent optical properties from classical water color measurements: Forel-Ule index and Secchi disk depth. Optics Express 27:7642-7655.\n"
   ]
  },
  {
   "cell_type": "code",
   "execution_count": 2,
   "id": "precious-employee",
   "metadata": {},
   "outputs": [
    {
     "name": "stdout",
     "output_type": "stream",
     "text": [
      "[NbConvertApp] Converting notebook blog_post.ipynb to html\n",
      "[NbConvertApp] Writing 583342 bytes to blog_post.html\n"
     ]
    }
   ],
   "source": [
    "# This is a code cell. it will be removed from your output html\n",
    "!jupyter nbconvert --to html --TemplateExporter.exclude_input=True  --TemplateExporter.exclude_output_prompt=True blog_post.ipynb"
   ]
  },
  {
   "cell_type": "code",
   "execution_count": null,
   "id": "42a5a755",
   "metadata": {},
   "outputs": [],
   "source": []
  }
 ],
 "metadata": {
  "hide_input": false,
  "kernelspec": {
   "display_name": "Python 3",
   "language": "python",
   "name": "python3"
  },
  "language_info": {
   "codemirror_mode": {
    "name": "ipython",
    "version": 3
   },
   "file_extension": ".py",
   "mimetype": "text/x-python",
   "name": "python",
   "nbconvert_exporter": "python",
   "pygments_lexer": "ipython3",
   "version": "3.7.10"
  },
  "toc": {
   "base_numbering": 1,
   "nav_menu": {},
   "number_sections": false,
   "sideBar": true,
   "skip_h1_title": false,
   "title_cell": "Table of Contents",
   "title_sidebar": "Contents",
   "toc_cell": false,
   "toc_position": {
    "height": "calc(100% - 180px)",
    "left": "10px",
    "top": "150px",
    "width": "327.2793884277344px"
   },
   "toc_section_display": true,
   "toc_window_display": true
  }
 },
 "nbformat": 4,
 "nbformat_minor": 5
}
