{
 "cells": [
  {
   "cell_type": "markdown",
   "id": "correct-contamination",
   "metadata": {},
   "source": [
    "## When \"going green\" Isn't Good: Lake Color Response to Wildfire"
   ]
  },
  {
   "cell_type": "markdown",
   "id": "anonymous-flash",
   "metadata": {},
   "source": [
    "### By Lauren Kremer\n",
    "June 2021"
   ]
  },
  {
   "cell_type": "markdown",
   "id": "relative-stadium",
   "metadata": {},
   "source": [
    "### Trees and plants affect lake color\n",
    "   The forests in the US Southwest have been altered by changes in wildfire patterns. They are especially affected by increased fire severity (Chambers et al. 2016, Malone et al. 2016, Coop et al. 2020 and others). Tree and vegetation regrowth is often slow or non-existent after high severity fires. It is expected that in some burned Ponderosa forests, trees may not recover at all in our lifetimes.  They may instead be replaced by shrubs and grasslands (Chambers et al. 2016, Kerns et al. 2018). \n",
    "\n",
    "   Vegetation within water catchments regulates water quality through controlled retention and release of nutrients. However, when vegetation is burned in a wildfire,  the demand of nutrients is drastically and suddenly reduced (Rhoades et al. 2019). Additionally, severely burned soils can be come water resistant or 'hydrophobic' (Reale et al. 2015). The combination of these wildfire effects means that in post-fire rainfall, nutrients and sediment can travel downhill towards streams and lakes like muddy, fertilized raindrops on a Gore-Tex coat. Many studies demonstrate increased nutrient and sediment content in streams with burned catchments, which reduces the quality of stream water and can change the ecosystems within them. However, little research has been done to measure changes in the quality and function of lakes affected by wildfire. \n",
    "   \n",
    "   "
   ]
  },
  {
   "cell_type": "markdown",
   "id": "sufficient-louisville",
   "metadata": {},
   "source": [
    "\n",
    "![cheesman](https://upload.wikimedia.org/wikipedia/commons/b/b5/Cheesman_Dam_at_Cheesman_Reservoir.jpg)"
   ]
  },
  {
   "cell_type": "markdown",
   "id": "editorial-renewal",
   "metadata": {},
   "source": [
    "*Figure 1.* The Cheesman Reservoir in the Hayman burn area near Pine, Colorado is an example of montane water storage that serves the Denver metro area. "
   ]
  },
  {
   "cell_type": "markdown",
   "id": "b22e95aa",
   "metadata": {},
   "source": [
    "Wildfires may have potentially similar or more severe consequences for lakes (McCullough et al. 2018). Unlike streams and rivers, lakes have much longer water residence times. This means sediment and nutrients can remain in and affect lakes long after they have settled or washed out of the streams above them. This is a concern for the US. Southwest as many communities, particularly those among or along the Rocky Mountain range, rely on forested mountain watersheds for potable or clean water (Figure 1). \n",
    "   \n",
    "   Water clarity and color can be used as estimates for water quality because they respond to ecological processes within the watershed (Topp et al. 2020). Gardner et al. (2020) and Topp et al. (2020) have demonstrated that long term and seasonal changes in water clarity and color be identified using Landsat satellite imagery.  "
   ]
  },
  {
   "cell_type": "markdown",
   "id": "listed-piano",
   "metadata": {},
   "source": [
    "### Objectives\n",
    "The remainder of this article describes a project intended to determine if post-wildfire changes to lake water quality can be detected with remote sensing tools like satellites. Our project has two objectives: \n",
    "1. To determine if post-wildfire changes to lake color can be detected with Landsat imagery  \n",
    "2. To identify watershed characteristics that drive changes in lake color"
   ]
  },
  {
   "cell_type": "markdown",
   "id": "infectious-sacrifice",
   "metadata": {},
   "source": [
    "### Finding burned lakes"
   ]
  },
  {
   "cell_type": "markdown",
   "id": "c3732fd4",
   "metadata": {},
   "source": [
    "There are a several of recently developed datasets that match Landsat satellite observations to *in-situ* or on-the-ground field measurements for waterbodies within the continental United States (i.e. LimnoSat by Topp et al. 2020, AquaSat by Ross et al. 2018).  LimnoSat provides the 'deepest point' caluclation for each lake and identifies color of a 120m diameter circle surrounding each point from Landsat satellites 5, 7, and 8.\n",
    "In this project, we used those deepest points, available through [Google Earth Engine](https://code.earthengine.google.com/4b49c096f90206995d89b87eb528a386) to identify lakes within Wyoming, Colorado, Utah, Arizona and New Mexico. We then drew a 2km buffer around each of those points that served as an estimate of the catchment area, or an area of land that could potentially affect the water quality in the lake.\n",
    "Then, we compared these 'catchments' to the [Monitoring Trends in Burn Severity](https://www.mtbs.gov/direct-download) burn areas and identified lakes that had catchments that overlapped with burn areas (Figure 2).  We then matched these points to the [LimnoSat](https://zenodo.org/record/4139695) color reflectance dataset to generate our own dataset of burned lakes and all of their Landsat imagery since 1984."
   ]
  },
  {
   "cell_type": "markdown",
   "id": "c09cbb88",
   "metadata": {},
   "source": [
    "<img src=\"images/all_burn_polys.png\">"
   ]
  },
  {
   "cell_type": "markdown",
   "id": "integral-highland",
   "metadata": {},
   "source": [
    "*Figure 2.* US Southwestern lake catchments and wildfire burn perimeters since 1984.  Green points indicate regions where lake catchments and fire areas overlap. "
   ]
  },
  {
   "cell_type": "markdown",
   "id": "historic-husband",
   "metadata": {},
   "source": [
    "### Lake color changes as seen from space"
   ]
  },
  {
   "cell_type": "markdown",
   "id": "regular-album",
   "metadata": {},
   "source": [
    "To determine if satellite imagery detected changes in lake colors, the color wavelengths were plotted over time. Some examples from Colorado fire-affected lakes are shown below, with the ignition date of recent wildfires shown as a red, dashed, vertical line. Dates in these figures where converted to the number of years before or after the fire ignition.  To minimize seasonal effects on lake color, only July and August images were gathered from the dataset for the images below. When reviewing the annual range of color trends within individual lakes, we can see that the color trends differ among them. The Rampart Reservoir in the Pikes Peak/central region of the state reflects an increase in wavelength (a shift from blue to green) several years post fire, whereas the Seaman Reservoir in Northern Colorado shows that this green shift occurs in the years immediately prior to, during and after the fire. The Lemon Reservoir and Lake George reflect little change except for brief green shifts in one summer post-fire."
   ]
  },
  {
   "cell_type": "markdown",
   "id": "4e68aa8c",
   "metadata": {},
   "source": [
    "<img src=\"images/color_distribution.png\">"
   ]
  },
  {
   "cell_type": "markdown",
   "id": "hairy-tennis",
   "metadata": {},
   "source": [
    "*Figure 3.* Dispersion of dominant wavelength by years since fire ignition for July and August lake color. These sites were selected to exemplify different types of color change, where an increase in wavelength (green-shift) can be observed in Rampart Reservoir, relative to a decrease (blue-shift) in the Seaman Reservoir.  Other sites, like the Lemon Reservoir and Lake George, may reflect increased variability post-fire or little change at all. "
   ]
  },
  {
   "cell_type": "markdown",
   "id": "16bd6ed1",
   "metadata": {},
   "source": [
    "###  Why would lakes go green?\n",
    "\n",
    "Lake color typically varies on a seasonal cycle. At temperate latitudes, we may see algal blooms in the spring (greener lakes) that are reduced as phytoplankton are gobbled by zooplankton and other aquatic organisms in the summer.  Summer algae and production can be dependent on nutrient supply where nutrient limited lakes will appear clear or blue (Sommer et al. 1986, Sommer et al. 2012). Additionally, high carbon or sediment concentrations may cause waters to appear brown (Webster et al. 2008). When considering landscape variables to put into an analysis, we considered factors within the catchment that might influence nutrient and sediment input into the lake and the conditions that might promote algal growth and the activity of aquatic organisms.  For example, if catchments with have a high average hillslope to the water with little vegetation coverage, rainfall from high precipitation events may be less likely to be retained by the surrounding soil and vegetation, and instead carry surface nutrients directly downhill to the lake. We also collected data that characterized the affecting wildfires to determine if fire influenced lake color. We added all of these variables to an analysis that ranked them by importance using decision trees."
   ]
  },
  {
   "cell_type": "markdown",
   "id": "d09847f4",
   "metadata": {},
   "source": [
    "### The results so far\n",
    "\n",
    "It was no surprise to find that *in-situ* measurements of chlorophyll-a were the strongest predictors of Landsat-derived lake color estimates. Some other variables indicated as important were year of the data, latitude and elevation. These are factors that point to environmental variables that change from year-to-year or with latitude and elevation like weather, climate and vegetation health, which as of June 2021, have not yet been added to the analysis. Surprisingly, the fire characteristics we included were not indicated as the strongest drivers of lake color change, though not all measurements have been considered. The percent of burned area within the catchment does appear as a secondary or tertiary variable in some of the top models, so fire may yet be revealed as a driver of lake color. As for the landscape factors that influence chlorophyll production, the jury is still out."
   ]
  },
  {
   "cell_type": "markdown",
   "id": "508cc244",
   "metadata": {},
   "source": [
    "<img src=\"images/small_tree.png\">"
   ]
  },
  {
   "cell_type": "markdown",
   "id": "c99c5a08",
   "metadata": {},
   "source": [
    "Figure 4. A 'short' version of one of the most accurate decision trees derived from a Randomforest analysis. "
   ]
  },
  {
   "cell_type": "markdown",
   "id": "66b6f797",
   "metadata": {},
   "source": [
    "This project isn't complete and will be continued with the collection of more environmental variables and better identification of fire-related characteristics with in the lake catchments. You can follow this blog or my [Github repository](https://github.com/earthlab-education/ea-2021-final-project-wildfire_lake_productivity) for updates as this work continues. At the project's conclusion, we hope to have findings that are useful to watershed management, especially in the context of either fire recovery stratiegies, like the identification of effective tree planting sites, or climate adaptation strategies if we find that climate has a stronger influence over water color than fire occurrence. Though the project continues, we have already learned that remote sensing applications are a powerful tool that can help us improve the capacity of our freshwater ecosytem services. "
   ]
  },
  {
   "cell_type": "markdown",
   "id": "4046b49c",
   "metadata": {},
   "source": [
    "![lakeandfire](https://eoimages.gsfc.nasa.gov/images/imagerecords/78000/78449/waldocanyon_ast_2012187_lrg.jpg)"
   ]
  },
  {
   "cell_type": "markdown",
   "id": "eefa7f2c",
   "metadata": {},
   "source": [
    "Figure 5. Landsat false-color composite imagery of Rampart Reservoir in the Waldo Canyon burn scar above Colorado Springs, CO. \n",
    "By: NASA Earth Observatory\n"
   ]
  },
  {
   "cell_type": "markdown",
   "id": "asian-schedule",
   "metadata": {},
   "source": [
    "## Works cited:"
   ]
  },
  {
   "cell_type": "markdown",
   "id": "military-peter",
   "metadata": {},
   "source": [
    "Chambers, M. E., Fornwalt, P. J., Malone, S. L., & Battaglia, M. A. (2016). Patterns of conifer regeneration following high severity wildfire in ponderosa pine – dominated forests of the Colorado Front Range. Forest Ecology and Management, 378:57-67. doi:10.1016/j.foreco.2016.07.001\n",
    "\n",
    "Coop, J. D., S. A. Parks, C. S. Stevens-Rumann, S. D. Crausbay, P. E. Higuera, M. D. Hurteau, A. Tepley, E. Whitman, T. Assal, B. M. Collins, K. T. Davis, S. Dobrowski, D. A. Falk, P. J. Fornwalt, P. Z. Fule, B. J. Harvey, V. Kane, C. E. Littlefield, E. Q. Margolis, M. North, M. A. Parisien, S. Prichard, and K. C. Rodman. 2020. Wildfire-Driven Forest Conversion in Western North American Landscapes. Bioscience 70:659-673.\n",
    "\n",
    "Gardner, J. R., X. Yang, S. N. Topp, M. R. V. Ross, E. H. Altenau, and T. M. Pavelsky. 2021. The Color of Rivers. Geophysical Research Letters 48.\n",
    "\n",
    "Kerns, B.K., D.C. Powell, S. Mellman-Brown, G. Carwath, J.B. Kim. 2018\n",
    "Effects of projected climate change vegetation of the Blue Mountains ecoregion\n",
    "USA. Climate Services 10:33-43.\n",
    "\n",
    "Malone, S. L., Fornwalt, P. J., Battaglia, M. A., Chambers, M. E., Iniguez, J. M., & Sieg, C. H. (2018). Mixed-Severity Fire Fosters Heterogeneous Spatial Patterns of Conifer Regeneration in a Dry Conifer Forest. Forests, 9:1. doi:10.3390/f9010045\n",
    "\n",
    "McCullough, I.M., Cheruvelil, K.S. Lapierre, J.F., Lottig, N.R. (2019). Do lakes feel the burn? Ecological consequences of increasing exposure of lakes to fire in the continental United States. Global Change Biology 25:9 \n",
    "\n",
    "Reale, J. K., D. J. Van Horn, K. E. Condon, and C. N. Dahm. 2015. The effects of catastrophic wildfire on water quality along a river continuum. Freshwater Science 34:1426-1442.\n",
    "\n",
    "Rhoades, C. C., A. T. Chow, T. P. Covino, T. S. Fegel, D. N. Pierson, and A. E. Rhea. 2018. The Legacy of a Severe Wildfire on Stream Nitrogen and Carbon in Headwater Catchments. Ecosystems 22:643-657.\n",
    "\n",
    "Ross, M. R. V., S. N. Topp, A. P. Appling, X. Yang, C. Kuhn, D. Butman, M. Simard, and T. M. Pavelsky. 2019. AquaSat: A Data Set to Enable Remote Sensing ofWater Quality for InlandWaters. Water Resources Research 55:10012-10025.\n",
    "\n",
    "Topp, S. N., Pavelsky, T. M., Dugan, D. A., Yang, X., Gardner, J. R. Ross, M.R.V. (2020). Shifting patterns of lake color phenology in over 26,000 US lakes. Earth and Space Science Open Archive.\n",
    "\n",
    "Wang, S. L., Z. P. Lee, S. L. Shang, J. S. Li, B. Zhang, and G. Lin. 2019. Deriving inherent optical properties from classical water color measurements: Forel-Ule index and Secchi disk depth. Optics Express 27:7642-7655.\n"
   ]
  },
  {
   "cell_type": "code",
   "execution_count": 1,
   "id": "precious-employee",
   "metadata": {},
   "outputs": [
    {
     "name": "stdout",
     "output_type": "stream",
     "text": [
      "[NbConvertApp] Converting notebook blog_post.ipynb to html_embed\n",
      "[NbConvertApp] Writing 12678808 bytes to blog_post.html\n"
     ]
    }
   ],
   "source": [
    "# This is a code cell. it will be removed from your output html\n",
    "!jupyter nbconvert --to html_embed --no-input blog_post.ipynb"
   ]
  }
 ],
 "metadata": {
  "hide_input": false,
  "kernelspec": {
   "display_name": "Python 3",
   "language": "python",
   "name": "python3"
  },
  "language_info": {
   "codemirror_mode": {
    "name": "ipython",
    "version": 3
   },
   "file_extension": ".py",
   "mimetype": "text/x-python",
   "name": "python",
   "nbconvert_exporter": "python",
   "pygments_lexer": "ipython3",
   "version": "3.7.10"
  },
  "toc": {
   "base_numbering": 1,
   "nav_menu": {},
   "number_sections": false,
   "sideBar": true,
   "skip_h1_title": false,
   "title_cell": "Table of Contents",
   "title_sidebar": "Contents",
   "toc_cell": false,
   "toc_position": {
    "height": "calc(100% - 180px)",
    "left": "10px",
    "top": "150px",
    "width": "327.2793884277344px"
   },
   "toc_section_display": true,
   "toc_window_display": true
  }
 },
 "nbformat": 4,
 "nbformat_minor": 5
}
