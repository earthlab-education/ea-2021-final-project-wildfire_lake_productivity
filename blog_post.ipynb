{
 "cells": [
  {
   "cell_type": "markdown",
   "id": "correct-contamination",
   "metadata": {},
   "source": [
    "# Lake Color Response to Wildfire"
   ]
  },
  {
   "cell_type": "markdown",
   "id": "anonymous-flash",
   "metadata": {},
   "source": [
    "### By Lauren Kremer"
   ]
  },
  {
   "cell_type": "markdown",
   "id": "political-costs",
   "metadata": {},
   "source": [
    "May 3, 2021"
   ]
  },
  {
   "cell_type": "markdown",
   "id": "relative-stadium",
   "metadata": {},
   "source": [
    "Forest composition and structure in the Colorado Front Range has been altered by changes to wildfire regimes, especially increased fire severity (Chambers et al. 2016, Malone et al. 2016, Coop et al. 2020 and others). Subsequently, reduced post-fire tree canopy regrowth often results in chronic impacts to upland ecological function and water quality. Vegetation within forested water catchments regulates water quality through retention and release of nutrients. However, vegetation mortality due to wildfire instantaneously reduces plant demand of nutrients (Rhoades et al. 2019) and in combination with hydrophobic soils (Reale et al. 2015), results in high post-fire erosional sediment and nutrient inputs to headwater streams and may have potentially similar or more severe consequences for lakes (McCullough et al. 2018). Unlike streams and rivers, lakes have much longer water residence times than streams which may result in prolonged fire effects. This is a concern for the US. Southwest as many communities, including the Colorado Front Range, rely on forested montane watersheds for clean drinking water (Figure 1). Water clarity and color can be used as proxies for water quality because they respond to ecological processes within the watershed (Topp et al. 2020). Gardner et al. (2020) and Topp et al. (2020) have demonstrated that long term and seasonal changes in water clarity and color be identified using NIR/red and blue/green ratios, as well as color indices (e.g. the Forel-Ule Color Index (Wang et al. 2015)) collected from Landsat imagery.  "
   ]
  },
  {
   "cell_type": "markdown",
   "id": "sufficient-louisville",
   "metadata": {},
   "source": [
    "### The Cheesman Reservior in the Hayman burn area, near Pine, Colorado.\n",
    "![abandoned](https://upload.wikimedia.org/wikipedia/commons/b/b5/Cheesman_Dam_at_Cheesman_Reservoir.jpg)"
   ]
  },
  {
   "cell_type": "markdown",
   "id": "editorial-renewal",
   "metadata": {},
   "source": [
    "*Figure 1.* The Cheesman Reservoir is an example of montane water storage that serves the Denver metro area. "
   ]
  },
  {
   "cell_type": "markdown",
   "id": "listed-piano",
   "metadata": {},
   "source": [
    "In an effort to determine if post-wildfire changes to lake water quality can be detected with remote sensing tools, this project has two objectives: 1. to determine if post-wildfire changes to lake color can be detected with Landsat imagery and 2. to identify watershed characteristics that drive changes in lake color. "
   ]
  },
  {
   "cell_type": "markdown",
   "id": "infectious-sacrifice",
   "metadata": {},
   "source": [
    "### Methods:"
   ]
  },
  {
   "cell_type": "markdown",
   "id": "radio-teens",
   "metadata": {},
   "source": [
    "There are a several of recently developed datasets that match landsat observations to *in-situ* or on-the-ground field measurements for waterbodies within the continental United States (i.e. LimnoSat by Topp et al. 2020, AquaSat by Ross et al. 2018).  LimnoSat provides the 'deepest' point caluclation for each lake within the HydroLAKES dataset, extracts summary optical properties surrounding each point from Landsat 5, 7, and 8, and offers a dataset of reflectance values that have been standardized across sensors.   \n",
    "I subset LimnoSat's deepest point shapefile, an asset available through [Google Earth Engine](https://code.earthengine.google.com/4b49c096f90206995d89b87eb528a386)  to identify lakes within Colorado and matched these points to the [LimnoSat](https://zenodo.org/record/4139695) reflectance dataset.\n",
    "The lake dataset that I used provided a point for the deepest region of each lake, so I built a 2km buffer for each of those points that will serve as a proxy for the catchment area. \n",
    "\n",
    "Then, using the Monitoring Trends in Burn Severity [burn extent shapefiles](https://www.mtbs.gov/direct-download) and an overlap function in Python, I to determined which Colorado lakes lied within burn perimeters (Figure 2).  "
   ]
  },
  {
   "cell_type": "markdown",
   "id": "4d9f30a5",
   "metadata": {},
   "source": [
    "<img src=\"images/burn_polys.png\">"
   ]
  },
  {
   "cell_type": "markdown",
   "id": "integral-highland",
   "metadata": {},
   "source": [
    "*Figure 2.* Colorado lake 'deepest points' and wildfire burn perimeters since 1984.  Green points indicate regions where lake polygons and fire polygons overlap. "
   ]
  },
  {
   "cell_type": "markdown",
   "id": "historic-husband",
   "metadata": {},
   "source": [
    "### Observing the Data"
   ]
  },
  {
   "cell_type": "markdown",
   "id": "regular-album",
   "metadata": {},
   "source": [
    "From the overlapping points, tablular data from the LimnoSat dataset and burn initiation dates of the MTBS dataset were plotted. The dominant wavelength supplied by Limnosat was determined using median values of red, green and blue landsat bands and the angle of reflectance. We can use the dominant wavelength as a color indicator and plot values over time to observe pre- and post-fire index trends. Each landsat image was classifed as pre- or post-fire and the number of days between burn ignition and Landsat image were caluculated to determine distance from fire in days or years. To minimize seasonal effects on lake color, only one or two months at a time were reviewed.  As an example, July and August images are gathered from the dataset for the images below. When reviewing the annual distribution of color trends within individual lakes, we can see that the responses and resilience differs among them. On the x-axis of the figures below, the time since fire is represented in years.  These are just a few lakes in the dataset selected to exemplify the differences in response. The Rampart Reservoir in the Pikes Peak/central region of the state reflects an increase in wavelength (a shift toward red) several years post fire, whereas the Seaman Reservoir in Northern Colorado shows a red shift the years immediate prior to, during and after. The Lemon Reservoir and Lake George reflect little change except for brief red shifts post-fire."
   ]
  },
  {
   "cell_type": "markdown",
   "id": "4e68aa8c",
   "metadata": {},
   "source": [
    "<img src=\"images/color_distribution.png\">"
   ]
  },
  {
   "cell_type": "markdown",
   "id": "hairy-tennis",
   "metadata": {},
   "source": [
    "*Figure 3.* Dispersion of index values by years since fire ignition for July and August color indices. These sites were selected to exemplify different types of color change, where an increase can be observed in Rampart Reservoir, relative to an index decrease in the Seaman Reservoir.  Other sites, like the Lemon Reservoir and Lake George, may reflect increased variability post-fire or little change at all. "
   ]
  },
  {
   "cell_type": "markdown",
   "id": "civic-guard",
   "metadata": {},
   "source": [
    "## Next Steps/Future Work"
   ]
  },
  {
   "cell_type": "markdown",
   "id": "structural-coverage",
   "metadata": {},
   "source": [
    "This project will continue over the next six weeks by undertaking several steps to identify the drivers behind the differences in color response among lakes. Within each lake polygon, I will attempt to characterize fire effects by calculating the proportion of each burn severity level and the total area burned.  Additionally, landscape characteristics like vegetation coverage, climate patterns and soil characteristics will be added to the analysis from the Earth Engine API within Python which will allow for data collection among many sources. In-situ data of chlorophyll concentrations from AquaSat will be merged with the burned dataset above and will be used as a response variable to train a random forest model.  From the model output, I hope to identify the most influential drivers of changes to lake color post-fire, and gain an understanding of why lakes may respond differently in terms of remotely sensed color. "
   ]
  },
  {
   "cell_type": "markdown",
   "id": "asian-schedule",
   "metadata": {},
   "source": [
    "## Works cited:"
   ]
  },
  {
   "cell_type": "markdown",
   "id": "military-peter",
   "metadata": {},
   "source": [
    "Chambers, M. E., Fornwalt, P. J., Malone, S. L., & Battaglia, M. A. (2016). Patterns of conifer regeneration following high severity wildfire in ponderosa pine – dominated forests of the Colorado Front Range. Forest Ecology and Management, 378:57-67. doi:10.1016/j.foreco.2016.07.001\n",
    "\n",
    "Coop, J. D., S. A. Parks, C. S. Stevens-Rumann, S. D. Crausbay, P. E. Higuera, M. D. Hurteau, A. Tepley, E. Whitman, T. Assal, B. M. Collins, K. T. Davis, S. Dobrowski, D. A. Falk, P. J. Fornwalt, P. Z. Fule, B. J. Harvey, V. Kane, C. E. Littlefield, E. Q. Margolis, M. North, M. A. Parisien, S. Prichard, and K. C. Rodman. 2020. Wildfire-Driven Forest Conversion in Western North American Landscapes. Bioscience 70:659-673.\n",
    "\n",
    "Gardner, J. R., X. Yang, S. N. Topp, M. R. V. Ross, E. H. Altenau, and T. M. Pavelsky. 2021. The Color of Rivers. Geophysical Research Letters 48.\n",
    "\n",
    "Malone, S. L., Fornwalt, P. J., Battaglia, M. A., Chambers, M. E., Iniguez, J. M., & Sieg, C. H. (2018). Mixed-Severity Fire Fosters Heterogeneous Spatial Patterns of Conifer Regeneration in a Dry Conifer Forest. Forests, 9:1. doi:10.3390/f9010045\n",
    "\n",
    "McCullough, I.M., Cheruvelil, K.S. Lapierre, J.F., Lottig, N.R. (2019). Do lakes feel the burn? Ecological consequences of increasing exposure of lakes to fire in the continental United States. Global Change Biology 25:9 \n",
    "\n",
    "Reale, J. K., D. J. Van Horn, K. E. Condon, and C. N. Dahm. 2015. The effects of catastrophic wildfire on water quality along a river continuum. Freshwater Science 34:1426-1442.\n",
    "\n",
    "Rhoades, C. C., A. T. Chow, T. P. Covino, T. S. Fegel, D. N. Pierson, and A. E. Rhea. 2018. The Legacy of a Severe Wildfire on Stream Nitrogen and Carbon in Headwater Catchments. Ecosystems 22:643-657.\n",
    "\n",
    "Ross, M. R. V., S. N. Topp, A. P. Appling, X. Yang, C. Kuhn, D. Butman, M. Simard, and T. M. Pavelsky. 2019. AquaSat: A Data Set to Enable Remote Sensing ofWater Quality for InlandWaters. Water Resources Research 55:10012-10025.\n",
    "\n",
    "Topp, S. N., Pavelsky, T. M., Dugan, D. A., Yang, X., Gardner, J. R. Ross, M.R.V. (2020). Shifting patterns of lake color phenology in over 26,000 US lakes. Earth and Space Science Open Archive.\n",
    "\n",
    "Wang, S. L., Z. P. Lee, S. L. Shang, J. S. Li, B. Zhang, and G. Lin. 2019. Deriving inherent optical properties from classical water color measurements: Forel-Ule index and Secchi disk depth. Optics Express 27:7642-7655.\n"
   ]
  },
  {
   "cell_type": "code",
   "execution_count": 1,
   "id": "precious-employee",
   "metadata": {},
   "outputs": [
    {
     "name": "stdout",
     "output_type": "stream",
     "text": [
      "[NbConvertApp] Converting notebook blog_post.ipynb to html\n",
      "[NbConvertApp] Writing 580855 bytes to blog_post.html\n"
     ]
    }
   ],
   "source": [
    "# This is a code cell. it will be removed from your output html\n",
    "!jupyter nbconvert --to html --TemplateExporter.exclude_input=True  --TemplateExporter.exclude_output_prompt=True blog_post.ipynb"
   ]
  }
 ],
 "metadata": {
  "hide_input": false,
  "kernelspec": {
   "display_name": "Python 3",
   "language": "python",
   "name": "python3"
  },
  "language_info": {
   "codemirror_mode": {
    "name": "ipython",
    "version": 3
   },
   "file_extension": ".py",
   "mimetype": "text/x-python",
   "name": "python",
   "nbconvert_exporter": "python",
   "pygments_lexer": "ipython3",
   "version": "3.7.10"
  },
  "toc": {
   "base_numbering": 1,
   "nav_menu": {},
   "number_sections": false,
   "sideBar": true,
   "skip_h1_title": false,
   "title_cell": "Table of Contents",
   "title_sidebar": "Contents",
   "toc_cell": false,
   "toc_position": {
    "height": "calc(100% - 180px)",
    "left": "10px",
    "top": "150px",
    "width": "327.2793884277344px"
   },
   "toc_section_display": true,
   "toc_window_display": true
  }
 },
 "nbformat": 4,
 "nbformat_minor": 5
}
